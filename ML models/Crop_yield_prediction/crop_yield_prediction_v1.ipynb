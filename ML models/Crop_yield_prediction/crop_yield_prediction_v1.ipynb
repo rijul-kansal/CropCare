{
  "metadata": {
    "kernelspec": {
      "language": "python",
      "display_name": "Python 3",
      "name": "python3"
    },
    "language_info": {
      "name": "python",
      "version": "3.10.13",
      "mimetype": "text/x-python",
      "codemirror_mode": {
        "name": "ipython",
        "version": 3
      },
      "pygments_lexer": "ipython3",
      "nbconvert_exporter": "python",
      "file_extension": ".py"
    },
    "kaggle": {
      "accelerator": "none",
      "dataSources": [
        {
          "sourceId": 4976975,
          "sourceType": "datasetVersion",
          "datasetId": 1850858
        }
      ],
      "dockerImageVersionId": 30664,
      "isInternetEnabled": true,
      "language": "python",
      "sourceType": "notebook",
      "isGpuEnabled": false
    },
    "colab": {
      "provenance": []
    }
  },
  "nbformat_minor": 0,
  "nbformat": 4,
  "cells": [
    {
      "cell_type": "code",
      "source": [
        "# prompt: unzip archive.zip file and name it as data\n",
        "\n",
        "!unzip -j archive.zip -d data"
      ],
      "metadata": {
        "colab": {
          "base_uri": "https://localhost:8080/"
        },
        "id": "h0A-dKudbxzv",
        "outputId": "8adcd326-0081-4fad-a7a3-3cba4a58da85"
      },
      "execution_count": 1,
      "outputs": [
        {
          "output_type": "stream",
          "name": "stdout",
          "text": [
            "Archive:  archive.zip\n",
            "  inflating: data/India Agriculture Crop Production.csv  \n"
          ]
        }
      ]
    },
    {
      "cell_type": "markdown",
      "source": [
        "## Import required Libraries and Dataset"
      ],
      "metadata": {
        "id": "VwlIehOiaL8u"
      }
    },
    {
      "cell_type": "code",
      "source": [
        "# # This Python 3 environment comes with many helpful analytics libraries installed\n",
        "# # It is defined by the kaggle/python Docker image: https://github.com/kaggle/docker-python\n",
        "# # For example, here's several helpful packages to load\n",
        "\n",
        "# import numpy as np # linear algebra\n",
        "# import pandas as pd # data processing, CSV file I/O (e.g. pd.read_csv)\n",
        "\n",
        "# # Input data files are available in the read-only \"../input/\" directory\n",
        "# # For example, running this (by clicking run or pressing Shift+Enter) will list all files under the input directory\n",
        "\n",
        "# import os\n",
        "# for dirname, _, filenames in os.walk('/kaggle/input'):\n",
        "#     for filename in filenames:\n",
        "#         print(os.path.join(dirname, filename))\n",
        "\n",
        "# # You can write up to 20GB to the current directory (/kaggle/working/) that gets preserved as output when you create a version using \"Save & Run All\"\n",
        "# # You can also write temporary files to /kaggle/temp/, but they won't be saved outside of the current session"
      ],
      "metadata": {
        "_uuid": "8f2839f25d086af736a60e9eeb907d3b93b6e0e5",
        "_cell_guid": "b1076dfc-b9ad-4769-8c92-a6c4dae69d19",
        "execution": {
          "iopub.status.busy": "2024-03-15T09:02:51.361741Z",
          "iopub.execute_input": "2024-03-15T09:02:51.362158Z",
          "iopub.status.idle": "2024-03-15T09:02:51.371076Z",
          "shell.execute_reply.started": "2024-03-15T09:02:51.362124Z",
          "shell.execute_reply": "2024-03-15T09:02:51.369593Z"
        },
        "trusted": true,
        "id": "mvVROC4baL8x"
      },
      "execution_count": 2,
      "outputs": []
    },
    {
      "cell_type": "code",
      "source": [
        "import numpy as np\n",
        "import pandas as pd"
      ],
      "metadata": {
        "id": "6u9imZbTcVLU"
      },
      "execution_count": 3,
      "outputs": []
    },
    {
      "cell_type": "code",
      "source": [
        "df = pd.read_csv('/content/data/India Agriculture Crop Production.csv')"
      ],
      "metadata": {
        "execution": {
          "iopub.status.busy": "2024-03-15T09:02:51.589588Z",
          "iopub.execute_input": "2024-03-15T09:02:51.590057Z",
          "iopub.status.idle": "2024-03-15T09:02:52.271639Z",
          "shell.execute_reply.started": "2024-03-15T09:02:51.590022Z",
          "shell.execute_reply": "2024-03-15T09:02:52.270284Z"
        },
        "trusted": true,
        "id": "zVEEk8dUaL8z"
      },
      "execution_count": 4,
      "outputs": []
    },
    {
      "cell_type": "markdown",
      "source": [
        "## Data Analysis"
      ],
      "metadata": {
        "id": "1AGY_bm8aL80"
      }
    },
    {
      "cell_type": "code",
      "source": [
        "df.head()"
      ],
      "metadata": {
        "execution": {
          "iopub.status.busy": "2024-03-15T09:02:52.273745Z",
          "iopub.execute_input": "2024-03-15T09:02:52.274149Z",
          "iopub.status.idle": "2024-03-15T09:02:52.294095Z",
          "shell.execute_reply.started": "2024-03-15T09:02:52.274116Z",
          "shell.execute_reply": "2024-03-15T09:02:52.292823Z"
        },
        "trusted": true,
        "colab": {
          "base_uri": "https://localhost:8080/",
          "height": 397
        },
        "id": "5uglGq5kaL80",
        "outputId": "f5b627d3-66fd-44ce-e18c-191243bf2a63"
      },
      "execution_count": 5,
      "outputs": [
        {
          "output_type": "execute_result",
          "data": {
            "text/plain": [
              "                         State                  District      Crop     Year  \\\n",
              "0  Andaman and Nicobar Islands                  NICOBARS  Arecanut  2001-02   \n",
              "1  Andaman and Nicobar Islands                  NICOBARS  Arecanut  2002-03   \n",
              "2  Andaman and Nicobar Islands                  NICOBARS  Arecanut  2003-04   \n",
              "3  Andaman and Nicobar Islands  NORTH AND MIDDLE ANDAMAN  Arecanut  2001-02   \n",
              "4  Andaman and Nicobar Islands            SOUTH ANDAMANS  Arecanut  2002-03   \n",
              "\n",
              "       Season    Area Area Units  Production Production Units     Yield  \n",
              "0      Kharif  1254.0    Hectare      2061.0           Tonnes  1.643541  \n",
              "1  Whole Year  1258.0    Hectare      2083.0           Tonnes  1.655803  \n",
              "2  Whole Year  1261.0    Hectare      1525.0           Tonnes  1.209358  \n",
              "3      Kharif  3100.0    Hectare      5239.0           Tonnes  1.690000  \n",
              "4  Whole Year  3105.0    Hectare      5267.0           Tonnes  1.696296  "
            ],
            "text/html": [
              "\n",
              "  <div id=\"df-e811a8bc-370c-47d9-a507-4ead38e5da89\" class=\"colab-df-container\">\n",
              "    <div>\n",
              "<style scoped>\n",
              "    .dataframe tbody tr th:only-of-type {\n",
              "        vertical-align: middle;\n",
              "    }\n",
              "\n",
              "    .dataframe tbody tr th {\n",
              "        vertical-align: top;\n",
              "    }\n",
              "\n",
              "    .dataframe thead th {\n",
              "        text-align: right;\n",
              "    }\n",
              "</style>\n",
              "<table border=\"1\" class=\"dataframe\">\n",
              "  <thead>\n",
              "    <tr style=\"text-align: right;\">\n",
              "      <th></th>\n",
              "      <th>State</th>\n",
              "      <th>District</th>\n",
              "      <th>Crop</th>\n",
              "      <th>Year</th>\n",
              "      <th>Season</th>\n",
              "      <th>Area</th>\n",
              "      <th>Area Units</th>\n",
              "      <th>Production</th>\n",
              "      <th>Production Units</th>\n",
              "      <th>Yield</th>\n",
              "    </tr>\n",
              "  </thead>\n",
              "  <tbody>\n",
              "    <tr>\n",
              "      <th>0</th>\n",
              "      <td>Andaman and Nicobar Islands</td>\n",
              "      <td>NICOBARS</td>\n",
              "      <td>Arecanut</td>\n",
              "      <td>2001-02</td>\n",
              "      <td>Kharif</td>\n",
              "      <td>1254.0</td>\n",
              "      <td>Hectare</td>\n",
              "      <td>2061.0</td>\n",
              "      <td>Tonnes</td>\n",
              "      <td>1.643541</td>\n",
              "    </tr>\n",
              "    <tr>\n",
              "      <th>1</th>\n",
              "      <td>Andaman and Nicobar Islands</td>\n",
              "      <td>NICOBARS</td>\n",
              "      <td>Arecanut</td>\n",
              "      <td>2002-03</td>\n",
              "      <td>Whole Year</td>\n",
              "      <td>1258.0</td>\n",
              "      <td>Hectare</td>\n",
              "      <td>2083.0</td>\n",
              "      <td>Tonnes</td>\n",
              "      <td>1.655803</td>\n",
              "    </tr>\n",
              "    <tr>\n",
              "      <th>2</th>\n",
              "      <td>Andaman and Nicobar Islands</td>\n",
              "      <td>NICOBARS</td>\n",
              "      <td>Arecanut</td>\n",
              "      <td>2003-04</td>\n",
              "      <td>Whole Year</td>\n",
              "      <td>1261.0</td>\n",
              "      <td>Hectare</td>\n",
              "      <td>1525.0</td>\n",
              "      <td>Tonnes</td>\n",
              "      <td>1.209358</td>\n",
              "    </tr>\n",
              "    <tr>\n",
              "      <th>3</th>\n",
              "      <td>Andaman and Nicobar Islands</td>\n",
              "      <td>NORTH AND MIDDLE ANDAMAN</td>\n",
              "      <td>Arecanut</td>\n",
              "      <td>2001-02</td>\n",
              "      <td>Kharif</td>\n",
              "      <td>3100.0</td>\n",
              "      <td>Hectare</td>\n",
              "      <td>5239.0</td>\n",
              "      <td>Tonnes</td>\n",
              "      <td>1.690000</td>\n",
              "    </tr>\n",
              "    <tr>\n",
              "      <th>4</th>\n",
              "      <td>Andaman and Nicobar Islands</td>\n",
              "      <td>SOUTH ANDAMANS</td>\n",
              "      <td>Arecanut</td>\n",
              "      <td>2002-03</td>\n",
              "      <td>Whole Year</td>\n",
              "      <td>3105.0</td>\n",
              "      <td>Hectare</td>\n",
              "      <td>5267.0</td>\n",
              "      <td>Tonnes</td>\n",
              "      <td>1.696296</td>\n",
              "    </tr>\n",
              "  </tbody>\n",
              "</table>\n",
              "</div>\n",
              "    <div class=\"colab-df-buttons\">\n",
              "\n",
              "  <div class=\"colab-df-container\">\n",
              "    <button class=\"colab-df-convert\" onclick=\"convertToInteractive('df-e811a8bc-370c-47d9-a507-4ead38e5da89')\"\n",
              "            title=\"Convert this dataframe to an interactive table.\"\n",
              "            style=\"display:none;\">\n",
              "\n",
              "  <svg xmlns=\"http://www.w3.org/2000/svg\" height=\"24px\" viewBox=\"0 -960 960 960\">\n",
              "    <path d=\"M120-120v-720h720v720H120Zm60-500h600v-160H180v160Zm220 220h160v-160H400v160Zm0 220h160v-160H400v160ZM180-400h160v-160H180v160Zm440 0h160v-160H620v160ZM180-180h160v-160H180v160Zm440 0h160v-160H620v160Z\"/>\n",
              "  </svg>\n",
              "    </button>\n",
              "\n",
              "  <style>\n",
              "    .colab-df-container {\n",
              "      display:flex;\n",
              "      gap: 12px;\n",
              "    }\n",
              "\n",
              "    .colab-df-convert {\n",
              "      background-color: #E8F0FE;\n",
              "      border: none;\n",
              "      border-radius: 50%;\n",
              "      cursor: pointer;\n",
              "      display: none;\n",
              "      fill: #1967D2;\n",
              "      height: 32px;\n",
              "      padding: 0 0 0 0;\n",
              "      width: 32px;\n",
              "    }\n",
              "\n",
              "    .colab-df-convert:hover {\n",
              "      background-color: #E2EBFA;\n",
              "      box-shadow: 0px 1px 2px rgba(60, 64, 67, 0.3), 0px 1px 3px 1px rgba(60, 64, 67, 0.15);\n",
              "      fill: #174EA6;\n",
              "    }\n",
              "\n",
              "    .colab-df-buttons div {\n",
              "      margin-bottom: 4px;\n",
              "    }\n",
              "\n",
              "    [theme=dark] .colab-df-convert {\n",
              "      background-color: #3B4455;\n",
              "      fill: #D2E3FC;\n",
              "    }\n",
              "\n",
              "    [theme=dark] .colab-df-convert:hover {\n",
              "      background-color: #434B5C;\n",
              "      box-shadow: 0px 1px 3px 1px rgba(0, 0, 0, 0.15);\n",
              "      filter: drop-shadow(0px 1px 2px rgba(0, 0, 0, 0.3));\n",
              "      fill: #FFFFFF;\n",
              "    }\n",
              "  </style>\n",
              "\n",
              "    <script>\n",
              "      const buttonEl =\n",
              "        document.querySelector('#df-e811a8bc-370c-47d9-a507-4ead38e5da89 button.colab-df-convert');\n",
              "      buttonEl.style.display =\n",
              "        google.colab.kernel.accessAllowed ? 'block' : 'none';\n",
              "\n",
              "      async function convertToInteractive(key) {\n",
              "        const element = document.querySelector('#df-e811a8bc-370c-47d9-a507-4ead38e5da89');\n",
              "        const dataTable =\n",
              "          await google.colab.kernel.invokeFunction('convertToInteractive',\n",
              "                                                    [key], {});\n",
              "        if (!dataTable) return;\n",
              "\n",
              "        const docLinkHtml = 'Like what you see? Visit the ' +\n",
              "          '<a target=\"_blank\" href=https://colab.research.google.com/notebooks/data_table.ipynb>data table notebook</a>'\n",
              "          + ' to learn more about interactive tables.';\n",
              "        element.innerHTML = '';\n",
              "        dataTable['output_type'] = 'display_data';\n",
              "        await google.colab.output.renderOutput(dataTable, element);\n",
              "        const docLink = document.createElement('div');\n",
              "        docLink.innerHTML = docLinkHtml;\n",
              "        element.appendChild(docLink);\n",
              "      }\n",
              "    </script>\n",
              "  </div>\n",
              "\n",
              "\n",
              "<div id=\"df-2ecd1bde-1598-4d80-b1d4-57ee2b97d8a3\">\n",
              "  <button class=\"colab-df-quickchart\" onclick=\"quickchart('df-2ecd1bde-1598-4d80-b1d4-57ee2b97d8a3')\"\n",
              "            title=\"Suggest charts\"\n",
              "            style=\"display:none;\">\n",
              "\n",
              "<svg xmlns=\"http://www.w3.org/2000/svg\" height=\"24px\"viewBox=\"0 0 24 24\"\n",
              "     width=\"24px\">\n",
              "    <g>\n",
              "        <path d=\"M19 3H5c-1.1 0-2 .9-2 2v14c0 1.1.9 2 2 2h14c1.1 0 2-.9 2-2V5c0-1.1-.9-2-2-2zM9 17H7v-7h2v7zm4 0h-2V7h2v10zm4 0h-2v-4h2v4z\"/>\n",
              "    </g>\n",
              "</svg>\n",
              "  </button>\n",
              "\n",
              "<style>\n",
              "  .colab-df-quickchart {\n",
              "      --bg-color: #E8F0FE;\n",
              "      --fill-color: #1967D2;\n",
              "      --hover-bg-color: #E2EBFA;\n",
              "      --hover-fill-color: #174EA6;\n",
              "      --disabled-fill-color: #AAA;\n",
              "      --disabled-bg-color: #DDD;\n",
              "  }\n",
              "\n",
              "  [theme=dark] .colab-df-quickchart {\n",
              "      --bg-color: #3B4455;\n",
              "      --fill-color: #D2E3FC;\n",
              "      --hover-bg-color: #434B5C;\n",
              "      --hover-fill-color: #FFFFFF;\n",
              "      --disabled-bg-color: #3B4455;\n",
              "      --disabled-fill-color: #666;\n",
              "  }\n",
              "\n",
              "  .colab-df-quickchart {\n",
              "    background-color: var(--bg-color);\n",
              "    border: none;\n",
              "    border-radius: 50%;\n",
              "    cursor: pointer;\n",
              "    display: none;\n",
              "    fill: var(--fill-color);\n",
              "    height: 32px;\n",
              "    padding: 0;\n",
              "    width: 32px;\n",
              "  }\n",
              "\n",
              "  .colab-df-quickchart:hover {\n",
              "    background-color: var(--hover-bg-color);\n",
              "    box-shadow: 0 1px 2px rgba(60, 64, 67, 0.3), 0 1px 3px 1px rgba(60, 64, 67, 0.15);\n",
              "    fill: var(--button-hover-fill-color);\n",
              "  }\n",
              "\n",
              "  .colab-df-quickchart-complete:disabled,\n",
              "  .colab-df-quickchart-complete:disabled:hover {\n",
              "    background-color: var(--disabled-bg-color);\n",
              "    fill: var(--disabled-fill-color);\n",
              "    box-shadow: none;\n",
              "  }\n",
              "\n",
              "  .colab-df-spinner {\n",
              "    border: 2px solid var(--fill-color);\n",
              "    border-color: transparent;\n",
              "    border-bottom-color: var(--fill-color);\n",
              "    animation:\n",
              "      spin 1s steps(1) infinite;\n",
              "  }\n",
              "\n",
              "  @keyframes spin {\n",
              "    0% {\n",
              "      border-color: transparent;\n",
              "      border-bottom-color: var(--fill-color);\n",
              "      border-left-color: var(--fill-color);\n",
              "    }\n",
              "    20% {\n",
              "      border-color: transparent;\n",
              "      border-left-color: var(--fill-color);\n",
              "      border-top-color: var(--fill-color);\n",
              "    }\n",
              "    30% {\n",
              "      border-color: transparent;\n",
              "      border-left-color: var(--fill-color);\n",
              "      border-top-color: var(--fill-color);\n",
              "      border-right-color: var(--fill-color);\n",
              "    }\n",
              "    40% {\n",
              "      border-color: transparent;\n",
              "      border-right-color: var(--fill-color);\n",
              "      border-top-color: var(--fill-color);\n",
              "    }\n",
              "    60% {\n",
              "      border-color: transparent;\n",
              "      border-right-color: var(--fill-color);\n",
              "    }\n",
              "    80% {\n",
              "      border-color: transparent;\n",
              "      border-right-color: var(--fill-color);\n",
              "      border-bottom-color: var(--fill-color);\n",
              "    }\n",
              "    90% {\n",
              "      border-color: transparent;\n",
              "      border-bottom-color: var(--fill-color);\n",
              "    }\n",
              "  }\n",
              "</style>\n",
              "\n",
              "  <script>\n",
              "    async function quickchart(key) {\n",
              "      const quickchartButtonEl =\n",
              "        document.querySelector('#' + key + ' button');\n",
              "      quickchartButtonEl.disabled = true;  // To prevent multiple clicks.\n",
              "      quickchartButtonEl.classList.add('colab-df-spinner');\n",
              "      try {\n",
              "        const charts = await google.colab.kernel.invokeFunction(\n",
              "            'suggestCharts', [key], {});\n",
              "      } catch (error) {\n",
              "        console.error('Error during call to suggestCharts:', error);\n",
              "      }\n",
              "      quickchartButtonEl.classList.remove('colab-df-spinner');\n",
              "      quickchartButtonEl.classList.add('colab-df-quickchart-complete');\n",
              "    }\n",
              "    (() => {\n",
              "      let quickchartButtonEl =\n",
              "        document.querySelector('#df-2ecd1bde-1598-4d80-b1d4-57ee2b97d8a3 button');\n",
              "      quickchartButtonEl.style.display =\n",
              "        google.colab.kernel.accessAllowed ? 'block' : 'none';\n",
              "    })();\n",
              "  </script>\n",
              "</div>\n",
              "\n",
              "    </div>\n",
              "  </div>\n"
            ],
            "application/vnd.google.colaboratory.intrinsic+json": {
              "type": "dataframe",
              "variable_name": "df"
            }
          },
          "metadata": {},
          "execution_count": 5
        }
      ]
    },
    {
      "cell_type": "code",
      "source": [
        "df.describe()"
      ],
      "metadata": {
        "execution": {
          "iopub.status.busy": "2024-03-15T09:02:52.295712Z",
          "iopub.execute_input": "2024-03-15T09:02:52.296207Z",
          "iopub.status.idle": "2024-03-15T09:02:52.373224Z",
          "shell.execute_reply.started": "2024-03-15T09:02:52.296166Z",
          "shell.execute_reply": "2024-03-15T09:02:52.372005Z"
        },
        "trusted": true,
        "colab": {
          "base_uri": "https://localhost:8080/",
          "height": 300
        },
        "id": "nQJUMv6raL80",
        "outputId": "755ddc65-cf06-404b-8e5b-5524f20c1a94"
      },
      "execution_count": 6,
      "outputs": [
        {
          "output_type": "execute_result",
          "data": {
            "text/plain": [
              "               Area    Production          Yield\n",
              "count  3.453740e+05  3.404140e+05  345374.000000\n",
              "mean   1.167019e+04  9.583711e+05      79.407569\n",
              "std    4.583843e+04  2.152986e+07     916.628744\n",
              "min    4.000000e-03  0.000000e+00       0.000000\n",
              "25%    7.400000e+01  8.700000e+01       0.546742\n",
              "50%    5.320000e+02  7.170000e+02       1.000000\n",
              "75%    4.110000e+03  7.176000e+03       2.467080\n",
              "max    8.580100e+06  1.597800e+09   43958.333333"
            ],
            "text/html": [
              "\n",
              "  <div id=\"df-36fe2440-64d8-4611-aca4-90e55522b76e\" class=\"colab-df-container\">\n",
              "    <div>\n",
              "<style scoped>\n",
              "    .dataframe tbody tr th:only-of-type {\n",
              "        vertical-align: middle;\n",
              "    }\n",
              "\n",
              "    .dataframe tbody tr th {\n",
              "        vertical-align: top;\n",
              "    }\n",
              "\n",
              "    .dataframe thead th {\n",
              "        text-align: right;\n",
              "    }\n",
              "</style>\n",
              "<table border=\"1\" class=\"dataframe\">\n",
              "  <thead>\n",
              "    <tr style=\"text-align: right;\">\n",
              "      <th></th>\n",
              "      <th>Area</th>\n",
              "      <th>Production</th>\n",
              "      <th>Yield</th>\n",
              "    </tr>\n",
              "  </thead>\n",
              "  <tbody>\n",
              "    <tr>\n",
              "      <th>count</th>\n",
              "      <td>3.453740e+05</td>\n",
              "      <td>3.404140e+05</td>\n",
              "      <td>345374.000000</td>\n",
              "    </tr>\n",
              "    <tr>\n",
              "      <th>mean</th>\n",
              "      <td>1.167019e+04</td>\n",
              "      <td>9.583711e+05</td>\n",
              "      <td>79.407569</td>\n",
              "    </tr>\n",
              "    <tr>\n",
              "      <th>std</th>\n",
              "      <td>4.583843e+04</td>\n",
              "      <td>2.152986e+07</td>\n",
              "      <td>916.628744</td>\n",
              "    </tr>\n",
              "    <tr>\n",
              "      <th>min</th>\n",
              "      <td>4.000000e-03</td>\n",
              "      <td>0.000000e+00</td>\n",
              "      <td>0.000000</td>\n",
              "    </tr>\n",
              "    <tr>\n",
              "      <th>25%</th>\n",
              "      <td>7.400000e+01</td>\n",
              "      <td>8.700000e+01</td>\n",
              "      <td>0.546742</td>\n",
              "    </tr>\n",
              "    <tr>\n",
              "      <th>50%</th>\n",
              "      <td>5.320000e+02</td>\n",
              "      <td>7.170000e+02</td>\n",
              "      <td>1.000000</td>\n",
              "    </tr>\n",
              "    <tr>\n",
              "      <th>75%</th>\n",
              "      <td>4.110000e+03</td>\n",
              "      <td>7.176000e+03</td>\n",
              "      <td>2.467080</td>\n",
              "    </tr>\n",
              "    <tr>\n",
              "      <th>max</th>\n",
              "      <td>8.580100e+06</td>\n",
              "      <td>1.597800e+09</td>\n",
              "      <td>43958.333333</td>\n",
              "    </tr>\n",
              "  </tbody>\n",
              "</table>\n",
              "</div>\n",
              "    <div class=\"colab-df-buttons\">\n",
              "\n",
              "  <div class=\"colab-df-container\">\n",
              "    <button class=\"colab-df-convert\" onclick=\"convertToInteractive('df-36fe2440-64d8-4611-aca4-90e55522b76e')\"\n",
              "            title=\"Convert this dataframe to an interactive table.\"\n",
              "            style=\"display:none;\">\n",
              "\n",
              "  <svg xmlns=\"http://www.w3.org/2000/svg\" height=\"24px\" viewBox=\"0 -960 960 960\">\n",
              "    <path d=\"M120-120v-720h720v720H120Zm60-500h600v-160H180v160Zm220 220h160v-160H400v160Zm0 220h160v-160H400v160ZM180-400h160v-160H180v160Zm440 0h160v-160H620v160ZM180-180h160v-160H180v160Zm440 0h160v-160H620v160Z\"/>\n",
              "  </svg>\n",
              "    </button>\n",
              "\n",
              "  <style>\n",
              "    .colab-df-container {\n",
              "      display:flex;\n",
              "      gap: 12px;\n",
              "    }\n",
              "\n",
              "    .colab-df-convert {\n",
              "      background-color: #E8F0FE;\n",
              "      border: none;\n",
              "      border-radius: 50%;\n",
              "      cursor: pointer;\n",
              "      display: none;\n",
              "      fill: #1967D2;\n",
              "      height: 32px;\n",
              "      padding: 0 0 0 0;\n",
              "      width: 32px;\n",
              "    }\n",
              "\n",
              "    .colab-df-convert:hover {\n",
              "      background-color: #E2EBFA;\n",
              "      box-shadow: 0px 1px 2px rgba(60, 64, 67, 0.3), 0px 1px 3px 1px rgba(60, 64, 67, 0.15);\n",
              "      fill: #174EA6;\n",
              "    }\n",
              "\n",
              "    .colab-df-buttons div {\n",
              "      margin-bottom: 4px;\n",
              "    }\n",
              "\n",
              "    [theme=dark] .colab-df-convert {\n",
              "      background-color: #3B4455;\n",
              "      fill: #D2E3FC;\n",
              "    }\n",
              "\n",
              "    [theme=dark] .colab-df-convert:hover {\n",
              "      background-color: #434B5C;\n",
              "      box-shadow: 0px 1px 3px 1px rgba(0, 0, 0, 0.15);\n",
              "      filter: drop-shadow(0px 1px 2px rgba(0, 0, 0, 0.3));\n",
              "      fill: #FFFFFF;\n",
              "    }\n",
              "  </style>\n",
              "\n",
              "    <script>\n",
              "      const buttonEl =\n",
              "        document.querySelector('#df-36fe2440-64d8-4611-aca4-90e55522b76e button.colab-df-convert');\n",
              "      buttonEl.style.display =\n",
              "        google.colab.kernel.accessAllowed ? 'block' : 'none';\n",
              "\n",
              "      async function convertToInteractive(key) {\n",
              "        const element = document.querySelector('#df-36fe2440-64d8-4611-aca4-90e55522b76e');\n",
              "        const dataTable =\n",
              "          await google.colab.kernel.invokeFunction('convertToInteractive',\n",
              "                                                    [key], {});\n",
              "        if (!dataTable) return;\n",
              "\n",
              "        const docLinkHtml = 'Like what you see? Visit the ' +\n",
              "          '<a target=\"_blank\" href=https://colab.research.google.com/notebooks/data_table.ipynb>data table notebook</a>'\n",
              "          + ' to learn more about interactive tables.';\n",
              "        element.innerHTML = '';\n",
              "        dataTable['output_type'] = 'display_data';\n",
              "        await google.colab.output.renderOutput(dataTable, element);\n",
              "        const docLink = document.createElement('div');\n",
              "        docLink.innerHTML = docLinkHtml;\n",
              "        element.appendChild(docLink);\n",
              "      }\n",
              "    </script>\n",
              "  </div>\n",
              "\n",
              "\n",
              "<div id=\"df-36058475-8f93-44d9-a028-adb0dff83ba5\">\n",
              "  <button class=\"colab-df-quickchart\" onclick=\"quickchart('df-36058475-8f93-44d9-a028-adb0dff83ba5')\"\n",
              "            title=\"Suggest charts\"\n",
              "            style=\"display:none;\">\n",
              "\n",
              "<svg xmlns=\"http://www.w3.org/2000/svg\" height=\"24px\"viewBox=\"0 0 24 24\"\n",
              "     width=\"24px\">\n",
              "    <g>\n",
              "        <path d=\"M19 3H5c-1.1 0-2 .9-2 2v14c0 1.1.9 2 2 2h14c1.1 0 2-.9 2-2V5c0-1.1-.9-2-2-2zM9 17H7v-7h2v7zm4 0h-2V7h2v10zm4 0h-2v-4h2v4z\"/>\n",
              "    </g>\n",
              "</svg>\n",
              "  </button>\n",
              "\n",
              "<style>\n",
              "  .colab-df-quickchart {\n",
              "      --bg-color: #E8F0FE;\n",
              "      --fill-color: #1967D2;\n",
              "      --hover-bg-color: #E2EBFA;\n",
              "      --hover-fill-color: #174EA6;\n",
              "      --disabled-fill-color: #AAA;\n",
              "      --disabled-bg-color: #DDD;\n",
              "  }\n",
              "\n",
              "  [theme=dark] .colab-df-quickchart {\n",
              "      --bg-color: #3B4455;\n",
              "      --fill-color: #D2E3FC;\n",
              "      --hover-bg-color: #434B5C;\n",
              "      --hover-fill-color: #FFFFFF;\n",
              "      --disabled-bg-color: #3B4455;\n",
              "      --disabled-fill-color: #666;\n",
              "  }\n",
              "\n",
              "  .colab-df-quickchart {\n",
              "    background-color: var(--bg-color);\n",
              "    border: none;\n",
              "    border-radius: 50%;\n",
              "    cursor: pointer;\n",
              "    display: none;\n",
              "    fill: var(--fill-color);\n",
              "    height: 32px;\n",
              "    padding: 0;\n",
              "    width: 32px;\n",
              "  }\n",
              "\n",
              "  .colab-df-quickchart:hover {\n",
              "    background-color: var(--hover-bg-color);\n",
              "    box-shadow: 0 1px 2px rgba(60, 64, 67, 0.3), 0 1px 3px 1px rgba(60, 64, 67, 0.15);\n",
              "    fill: var(--button-hover-fill-color);\n",
              "  }\n",
              "\n",
              "  .colab-df-quickchart-complete:disabled,\n",
              "  .colab-df-quickchart-complete:disabled:hover {\n",
              "    background-color: var(--disabled-bg-color);\n",
              "    fill: var(--disabled-fill-color);\n",
              "    box-shadow: none;\n",
              "  }\n",
              "\n",
              "  .colab-df-spinner {\n",
              "    border: 2px solid var(--fill-color);\n",
              "    border-color: transparent;\n",
              "    border-bottom-color: var(--fill-color);\n",
              "    animation:\n",
              "      spin 1s steps(1) infinite;\n",
              "  }\n",
              "\n",
              "  @keyframes spin {\n",
              "    0% {\n",
              "      border-color: transparent;\n",
              "      border-bottom-color: var(--fill-color);\n",
              "      border-left-color: var(--fill-color);\n",
              "    }\n",
              "    20% {\n",
              "      border-color: transparent;\n",
              "      border-left-color: var(--fill-color);\n",
              "      border-top-color: var(--fill-color);\n",
              "    }\n",
              "    30% {\n",
              "      border-color: transparent;\n",
              "      border-left-color: var(--fill-color);\n",
              "      border-top-color: var(--fill-color);\n",
              "      border-right-color: var(--fill-color);\n",
              "    }\n",
              "    40% {\n",
              "      border-color: transparent;\n",
              "      border-right-color: var(--fill-color);\n",
              "      border-top-color: var(--fill-color);\n",
              "    }\n",
              "    60% {\n",
              "      border-color: transparent;\n",
              "      border-right-color: var(--fill-color);\n",
              "    }\n",
              "    80% {\n",
              "      border-color: transparent;\n",
              "      border-right-color: var(--fill-color);\n",
              "      border-bottom-color: var(--fill-color);\n",
              "    }\n",
              "    90% {\n",
              "      border-color: transparent;\n",
              "      border-bottom-color: var(--fill-color);\n",
              "    }\n",
              "  }\n",
              "</style>\n",
              "\n",
              "  <script>\n",
              "    async function quickchart(key) {\n",
              "      const quickchartButtonEl =\n",
              "        document.querySelector('#' + key + ' button');\n",
              "      quickchartButtonEl.disabled = true;  // To prevent multiple clicks.\n",
              "      quickchartButtonEl.classList.add('colab-df-spinner');\n",
              "      try {\n",
              "        const charts = await google.colab.kernel.invokeFunction(\n",
              "            'suggestCharts', [key], {});\n",
              "      } catch (error) {\n",
              "        console.error('Error during call to suggestCharts:', error);\n",
              "      }\n",
              "      quickchartButtonEl.classList.remove('colab-df-spinner');\n",
              "      quickchartButtonEl.classList.add('colab-df-quickchart-complete');\n",
              "    }\n",
              "    (() => {\n",
              "      let quickchartButtonEl =\n",
              "        document.querySelector('#df-36058475-8f93-44d9-a028-adb0dff83ba5 button');\n",
              "      quickchartButtonEl.style.display =\n",
              "        google.colab.kernel.accessAllowed ? 'block' : 'none';\n",
              "    })();\n",
              "  </script>\n",
              "</div>\n",
              "\n",
              "    </div>\n",
              "  </div>\n"
            ],
            "application/vnd.google.colaboratory.intrinsic+json": {
              "type": "dataframe",
              "summary": "{\n  \"name\": \"df\",\n  \"rows\": 8,\n  \"fields\": [\n    {\n      \"column\": \"Area\",\n      \"properties\": {\n        \"dtype\": \"number\",\n        \"std\": 3015254.3823139216,\n        \"min\": 0.004,\n        \"max\": 8580100.0,\n        \"num_unique_values\": 8,\n        \"samples\": [\n          11670.191258244684,\n          532.0,\n          345374.0\n        ],\n        \"semantic_type\": \"\",\n        \"description\": \"\"\n      }\n    },\n    {\n      \"column\": \"Production\",\n      \"properties\": {\n        \"dtype\": \"number\",\n        \"std\": 563803604.0036345,\n        \"min\": 0.0,\n        \"max\": 1597800000.0,\n        \"num_unique_values\": 8,\n        \"samples\": [\n          958371.1486639765,\n          717.0,\n          340414.0\n        ],\n        \"semantic_type\": \"\",\n        \"description\": \"\"\n      }\n    },\n    {\n      \"column\": \"Yield\",\n      \"properties\": {\n        \"dtype\": \"number\",\n        \"std\": 120813.58737955135,\n        \"min\": 0.0,\n        \"max\": 345374.0,\n        \"num_unique_values\": 8,\n        \"samples\": [\n          79.40756931424343,\n          1.0,\n          345374.0\n        ],\n        \"semantic_type\": \"\",\n        \"description\": \"\"\n      }\n    }\n  ]\n}"
            }
          },
          "metadata": {},
          "execution_count": 6
        }
      ]
    },
    {
      "cell_type": "code",
      "source": [
        "df.info()"
      ],
      "metadata": {
        "execution": {
          "iopub.status.busy": "2024-03-15T09:02:52.741313Z",
          "iopub.execute_input": "2024-03-15T09:02:52.741706Z",
          "iopub.status.idle": "2024-03-15T09:02:53.013987Z",
          "shell.execute_reply.started": "2024-03-15T09:02:52.741676Z",
          "shell.execute_reply": "2024-03-15T09:02:53.012636Z"
        },
        "trusted": true,
        "colab": {
          "base_uri": "https://localhost:8080/"
        },
        "id": "o75aaMZSaL81",
        "outputId": "ec70db99-8b0e-4b1f-b2e5-efcf16ae36ef"
      },
      "execution_count": 7,
      "outputs": [
        {
          "output_type": "stream",
          "name": "stdout",
          "text": [
            "<class 'pandas.core.frame.DataFrame'>\n",
            "RangeIndex: 345407 entries, 0 to 345406\n",
            "Data columns (total 10 columns):\n",
            " #   Column            Non-Null Count   Dtype  \n",
            "---  ------            --------------   -----  \n",
            " 0   State             345407 non-null  object \n",
            " 1   District          345407 non-null  object \n",
            " 2   Crop              345375 non-null  object \n",
            " 3   Year              345407 non-null  object \n",
            " 4   Season            345406 non-null  object \n",
            " 5   Area              345374 non-null  float64\n",
            " 6   Area Units        345407 non-null  object \n",
            " 7   Production        340414 non-null  float64\n",
            " 8   Production Units  345407 non-null  object \n",
            " 9   Yield             345374 non-null  float64\n",
            "dtypes: float64(3), object(7)\n",
            "memory usage: 26.4+ MB\n"
          ]
        }
      ]
    },
    {
      "cell_type": "code",
      "source": [
        "df.isna().sum()"
      ],
      "metadata": {
        "execution": {
          "iopub.status.busy": "2024-03-15T09:02:53.209409Z",
          "iopub.execute_input": "2024-03-15T09:02:53.209843Z",
          "iopub.status.idle": "2024-03-15T09:02:53.478365Z",
          "shell.execute_reply.started": "2024-03-15T09:02:53.209806Z",
          "shell.execute_reply": "2024-03-15T09:02:53.477190Z"
        },
        "trusted": true,
        "colab": {
          "base_uri": "https://localhost:8080/"
        },
        "id": "GZpOP0vAaL81",
        "outputId": "8b42c379-84dd-416f-aee8-90d732acef6b"
      },
      "execution_count": 8,
      "outputs": [
        {
          "output_type": "execute_result",
          "data": {
            "text/plain": [
              "State                  0\n",
              "District               0\n",
              "Crop                  32\n",
              "Year                   0\n",
              "Season                 1\n",
              "Area                  33\n",
              "Area Units             0\n",
              "Production          4993\n",
              "Production Units       0\n",
              "Yield                 33\n",
              "dtype: int64"
            ]
          },
          "metadata": {},
          "execution_count": 8
        }
      ]
    },
    {
      "cell_type": "code",
      "source": [
        "df.dropna(inplace = True)"
      ],
      "metadata": {
        "execution": {
          "iopub.status.busy": "2024-03-15T09:02:53.538006Z",
          "iopub.execute_input": "2024-03-15T09:02:53.538421Z",
          "iopub.status.idle": "2024-03-15T09:02:53.834284Z",
          "shell.execute_reply.started": "2024-03-15T09:02:53.538391Z",
          "shell.execute_reply": "2024-03-15T09:02:53.832985Z"
        },
        "trusted": true,
        "id": "telig17-aL81"
      },
      "execution_count": 9,
      "outputs": []
    },
    {
      "cell_type": "code",
      "source": [
        "df.isna().sum()"
      ],
      "metadata": {
        "execution": {
          "iopub.status.busy": "2024-03-15T09:03:01.647131Z",
          "iopub.execute_input": "2024-03-15T09:03:01.647533Z",
          "iopub.status.idle": "2024-03-15T09:03:01.920097Z",
          "shell.execute_reply.started": "2024-03-15T09:03:01.647503Z",
          "shell.execute_reply": "2024-03-15T09:03:01.919178Z"
        },
        "trusted": true,
        "colab": {
          "base_uri": "https://localhost:8080/"
        },
        "id": "g96oMuuyaL82",
        "outputId": "5c7b1250-9861-4ea4-a5d4-3784ea22cfe9"
      },
      "execution_count": 10,
      "outputs": [
        {
          "output_type": "execute_result",
          "data": {
            "text/plain": [
              "State               0\n",
              "District            0\n",
              "Crop                0\n",
              "Year                0\n",
              "Season              0\n",
              "Area                0\n",
              "Area Units          0\n",
              "Production          0\n",
              "Production Units    0\n",
              "Yield               0\n",
              "dtype: int64"
            ]
          },
          "metadata": {},
          "execution_count": 10
        }
      ]
    },
    {
      "cell_type": "code",
      "source": [],
      "metadata": {
        "id": "gokKn72PaL82"
      },
      "execution_count": 10,
      "outputs": []
    },
    {
      "cell_type": "code",
      "source": [
        "df['State'].unique()"
      ],
      "metadata": {
        "execution": {
          "iopub.status.busy": "2024-03-15T09:03:02.232528Z",
          "iopub.execute_input": "2024-03-15T09:03:02.233575Z",
          "iopub.status.idle": "2024-03-15T09:03:02.269438Z",
          "shell.execute_reply.started": "2024-03-15T09:03:02.233535Z",
          "shell.execute_reply": "2024-03-15T09:03:02.268241Z"
        },
        "trusted": true,
        "colab": {
          "base_uri": "https://localhost:8080/"
        },
        "id": "evYVUnoYaL82",
        "outputId": "6cb0eb70-3a06-409f-ff70-61de280f9663"
      },
      "execution_count": 11,
      "outputs": [
        {
          "output_type": "execute_result",
          "data": {
            "text/plain": [
              "array(['Andaman and Nicobar Islands', 'Andhra Pradesh',\n",
              "       'Arunachal Pradesh', 'Assam', 'Bihar', 'Chandigarh',\n",
              "       'Chhattisgarh', 'Dadra and Nagar Haveli', 'Daman and Diu', 'Delhi',\n",
              "       'Goa', 'Gujarat', 'Haryana', 'Himachal Pradesh',\n",
              "       'Jammu and Kashmir', 'Jharkhand', 'Karnataka', 'Kerala',\n",
              "       'Madhya Pradesh', 'Maharashtra', 'Manipur', 'Meghalaya', 'Mizoram',\n",
              "       'Nagaland', 'Odisha', 'Puducherry', 'Punjab', 'Rajasthan',\n",
              "       'Sikkim', 'Tamil Nadu', 'Tripura', 'Uttar Pradesh', 'Uttarakhand',\n",
              "       'West Bengal', 'Telangana', 'Laddakh'], dtype=object)"
            ]
          },
          "metadata": {},
          "execution_count": 11
        }
      ]
    },
    {
      "cell_type": "code",
      "source": [
        "df2 = df[(df['State'] != 'Ladakh') & (df['Production Units'] != 'Nuts') & (df['Production Units'] != 'Basel')]"
      ],
      "metadata": {
        "execution": {
          "iopub.status.busy": "2024-03-15T09:03:02.515588Z",
          "iopub.execute_input": "2024-03-15T09:03:02.516588Z",
          "iopub.status.idle": "2024-03-15T09:03:02.678389Z",
          "shell.execute_reply.started": "2024-03-15T09:03:02.516547Z",
          "shell.execute_reply": "2024-03-15T09:03:02.676995Z"
        },
        "trusted": true,
        "id": "_przKeHIaL82"
      },
      "execution_count": 12,
      "outputs": []
    },
    {
      "cell_type": "code",
      "source": [
        "df2.head()"
      ],
      "metadata": {
        "execution": {
          "iopub.status.busy": "2024-03-15T09:03:02.874747Z",
          "iopub.execute_input": "2024-03-15T09:03:02.875218Z",
          "iopub.status.idle": "2024-03-15T09:03:02.898012Z",
          "shell.execute_reply.started": "2024-03-15T09:03:02.875183Z",
          "shell.execute_reply": "2024-03-15T09:03:02.897000Z"
        },
        "trusted": true,
        "colab": {
          "base_uri": "https://localhost:8080/",
          "height": 397
        },
        "id": "4eO26WYaaL82",
        "outputId": "bb1ca8f7-fb22-45e6-c678-95c1e70cd7ca"
      },
      "execution_count": 13,
      "outputs": [
        {
          "output_type": "execute_result",
          "data": {
            "text/plain": [
              "                         State                  District      Crop     Year  \\\n",
              "0  Andaman and Nicobar Islands                  NICOBARS  Arecanut  2001-02   \n",
              "1  Andaman and Nicobar Islands                  NICOBARS  Arecanut  2002-03   \n",
              "2  Andaman and Nicobar Islands                  NICOBARS  Arecanut  2003-04   \n",
              "3  Andaman and Nicobar Islands  NORTH AND MIDDLE ANDAMAN  Arecanut  2001-02   \n",
              "4  Andaman and Nicobar Islands            SOUTH ANDAMANS  Arecanut  2002-03   \n",
              "\n",
              "       Season    Area Area Units  Production Production Units     Yield  \n",
              "0      Kharif  1254.0    Hectare      2061.0           Tonnes  1.643541  \n",
              "1  Whole Year  1258.0    Hectare      2083.0           Tonnes  1.655803  \n",
              "2  Whole Year  1261.0    Hectare      1525.0           Tonnes  1.209358  \n",
              "3      Kharif  3100.0    Hectare      5239.0           Tonnes  1.690000  \n",
              "4  Whole Year  3105.0    Hectare      5267.0           Tonnes  1.696296  "
            ],
            "text/html": [
              "\n",
              "  <div id=\"df-4fb941e3-1351-4c69-a561-715c714590c8\" class=\"colab-df-container\">\n",
              "    <div>\n",
              "<style scoped>\n",
              "    .dataframe tbody tr th:only-of-type {\n",
              "        vertical-align: middle;\n",
              "    }\n",
              "\n",
              "    .dataframe tbody tr th {\n",
              "        vertical-align: top;\n",
              "    }\n",
              "\n",
              "    .dataframe thead th {\n",
              "        text-align: right;\n",
              "    }\n",
              "</style>\n",
              "<table border=\"1\" class=\"dataframe\">\n",
              "  <thead>\n",
              "    <tr style=\"text-align: right;\">\n",
              "      <th></th>\n",
              "      <th>State</th>\n",
              "      <th>District</th>\n",
              "      <th>Crop</th>\n",
              "      <th>Year</th>\n",
              "      <th>Season</th>\n",
              "      <th>Area</th>\n",
              "      <th>Area Units</th>\n",
              "      <th>Production</th>\n",
              "      <th>Production Units</th>\n",
              "      <th>Yield</th>\n",
              "    </tr>\n",
              "  </thead>\n",
              "  <tbody>\n",
              "    <tr>\n",
              "      <th>0</th>\n",
              "      <td>Andaman and Nicobar Islands</td>\n",
              "      <td>NICOBARS</td>\n",
              "      <td>Arecanut</td>\n",
              "      <td>2001-02</td>\n",
              "      <td>Kharif</td>\n",
              "      <td>1254.0</td>\n",
              "      <td>Hectare</td>\n",
              "      <td>2061.0</td>\n",
              "      <td>Tonnes</td>\n",
              "      <td>1.643541</td>\n",
              "    </tr>\n",
              "    <tr>\n",
              "      <th>1</th>\n",
              "      <td>Andaman and Nicobar Islands</td>\n",
              "      <td>NICOBARS</td>\n",
              "      <td>Arecanut</td>\n",
              "      <td>2002-03</td>\n",
              "      <td>Whole Year</td>\n",
              "      <td>1258.0</td>\n",
              "      <td>Hectare</td>\n",
              "      <td>2083.0</td>\n",
              "      <td>Tonnes</td>\n",
              "      <td>1.655803</td>\n",
              "    </tr>\n",
              "    <tr>\n",
              "      <th>2</th>\n",
              "      <td>Andaman and Nicobar Islands</td>\n",
              "      <td>NICOBARS</td>\n",
              "      <td>Arecanut</td>\n",
              "      <td>2003-04</td>\n",
              "      <td>Whole Year</td>\n",
              "      <td>1261.0</td>\n",
              "      <td>Hectare</td>\n",
              "      <td>1525.0</td>\n",
              "      <td>Tonnes</td>\n",
              "      <td>1.209358</td>\n",
              "    </tr>\n",
              "    <tr>\n",
              "      <th>3</th>\n",
              "      <td>Andaman and Nicobar Islands</td>\n",
              "      <td>NORTH AND MIDDLE ANDAMAN</td>\n",
              "      <td>Arecanut</td>\n",
              "      <td>2001-02</td>\n",
              "      <td>Kharif</td>\n",
              "      <td>3100.0</td>\n",
              "      <td>Hectare</td>\n",
              "      <td>5239.0</td>\n",
              "      <td>Tonnes</td>\n",
              "      <td>1.690000</td>\n",
              "    </tr>\n",
              "    <tr>\n",
              "      <th>4</th>\n",
              "      <td>Andaman and Nicobar Islands</td>\n",
              "      <td>SOUTH ANDAMANS</td>\n",
              "      <td>Arecanut</td>\n",
              "      <td>2002-03</td>\n",
              "      <td>Whole Year</td>\n",
              "      <td>3105.0</td>\n",
              "      <td>Hectare</td>\n",
              "      <td>5267.0</td>\n",
              "      <td>Tonnes</td>\n",
              "      <td>1.696296</td>\n",
              "    </tr>\n",
              "  </tbody>\n",
              "</table>\n",
              "</div>\n",
              "    <div class=\"colab-df-buttons\">\n",
              "\n",
              "  <div class=\"colab-df-container\">\n",
              "    <button class=\"colab-df-convert\" onclick=\"convertToInteractive('df-4fb941e3-1351-4c69-a561-715c714590c8')\"\n",
              "            title=\"Convert this dataframe to an interactive table.\"\n",
              "            style=\"display:none;\">\n",
              "\n",
              "  <svg xmlns=\"http://www.w3.org/2000/svg\" height=\"24px\" viewBox=\"0 -960 960 960\">\n",
              "    <path d=\"M120-120v-720h720v720H120Zm60-500h600v-160H180v160Zm220 220h160v-160H400v160Zm0 220h160v-160H400v160ZM180-400h160v-160H180v160Zm440 0h160v-160H620v160ZM180-180h160v-160H180v160Zm440 0h160v-160H620v160Z\"/>\n",
              "  </svg>\n",
              "    </button>\n",
              "\n",
              "  <style>\n",
              "    .colab-df-container {\n",
              "      display:flex;\n",
              "      gap: 12px;\n",
              "    }\n",
              "\n",
              "    .colab-df-convert {\n",
              "      background-color: #E8F0FE;\n",
              "      border: none;\n",
              "      border-radius: 50%;\n",
              "      cursor: pointer;\n",
              "      display: none;\n",
              "      fill: #1967D2;\n",
              "      height: 32px;\n",
              "      padding: 0 0 0 0;\n",
              "      width: 32px;\n",
              "    }\n",
              "\n",
              "    .colab-df-convert:hover {\n",
              "      background-color: #E2EBFA;\n",
              "      box-shadow: 0px 1px 2px rgba(60, 64, 67, 0.3), 0px 1px 3px 1px rgba(60, 64, 67, 0.15);\n",
              "      fill: #174EA6;\n",
              "    }\n",
              "\n",
              "    .colab-df-buttons div {\n",
              "      margin-bottom: 4px;\n",
              "    }\n",
              "\n",
              "    [theme=dark] .colab-df-convert {\n",
              "      background-color: #3B4455;\n",
              "      fill: #D2E3FC;\n",
              "    }\n",
              "\n",
              "    [theme=dark] .colab-df-convert:hover {\n",
              "      background-color: #434B5C;\n",
              "      box-shadow: 0px 1px 3px 1px rgba(0, 0, 0, 0.15);\n",
              "      filter: drop-shadow(0px 1px 2px rgba(0, 0, 0, 0.3));\n",
              "      fill: #FFFFFF;\n",
              "    }\n",
              "  </style>\n",
              "\n",
              "    <script>\n",
              "      const buttonEl =\n",
              "        document.querySelector('#df-4fb941e3-1351-4c69-a561-715c714590c8 button.colab-df-convert');\n",
              "      buttonEl.style.display =\n",
              "        google.colab.kernel.accessAllowed ? 'block' : 'none';\n",
              "\n",
              "      async function convertToInteractive(key) {\n",
              "        const element = document.querySelector('#df-4fb941e3-1351-4c69-a561-715c714590c8');\n",
              "        const dataTable =\n",
              "          await google.colab.kernel.invokeFunction('convertToInteractive',\n",
              "                                                    [key], {});\n",
              "        if (!dataTable) return;\n",
              "\n",
              "        const docLinkHtml = 'Like what you see? Visit the ' +\n",
              "          '<a target=\"_blank\" href=https://colab.research.google.com/notebooks/data_table.ipynb>data table notebook</a>'\n",
              "          + ' to learn more about interactive tables.';\n",
              "        element.innerHTML = '';\n",
              "        dataTable['output_type'] = 'display_data';\n",
              "        await google.colab.output.renderOutput(dataTable, element);\n",
              "        const docLink = document.createElement('div');\n",
              "        docLink.innerHTML = docLinkHtml;\n",
              "        element.appendChild(docLink);\n",
              "      }\n",
              "    </script>\n",
              "  </div>\n",
              "\n",
              "\n",
              "<div id=\"df-2c529114-5fef-4a7a-89e1-3b11faaf46a8\">\n",
              "  <button class=\"colab-df-quickchart\" onclick=\"quickchart('df-2c529114-5fef-4a7a-89e1-3b11faaf46a8')\"\n",
              "            title=\"Suggest charts\"\n",
              "            style=\"display:none;\">\n",
              "\n",
              "<svg xmlns=\"http://www.w3.org/2000/svg\" height=\"24px\"viewBox=\"0 0 24 24\"\n",
              "     width=\"24px\">\n",
              "    <g>\n",
              "        <path d=\"M19 3H5c-1.1 0-2 .9-2 2v14c0 1.1.9 2 2 2h14c1.1 0 2-.9 2-2V5c0-1.1-.9-2-2-2zM9 17H7v-7h2v7zm4 0h-2V7h2v10zm4 0h-2v-4h2v4z\"/>\n",
              "    </g>\n",
              "</svg>\n",
              "  </button>\n",
              "\n",
              "<style>\n",
              "  .colab-df-quickchart {\n",
              "      --bg-color: #E8F0FE;\n",
              "      --fill-color: #1967D2;\n",
              "      --hover-bg-color: #E2EBFA;\n",
              "      --hover-fill-color: #174EA6;\n",
              "      --disabled-fill-color: #AAA;\n",
              "      --disabled-bg-color: #DDD;\n",
              "  }\n",
              "\n",
              "  [theme=dark] .colab-df-quickchart {\n",
              "      --bg-color: #3B4455;\n",
              "      --fill-color: #D2E3FC;\n",
              "      --hover-bg-color: #434B5C;\n",
              "      --hover-fill-color: #FFFFFF;\n",
              "      --disabled-bg-color: #3B4455;\n",
              "      --disabled-fill-color: #666;\n",
              "  }\n",
              "\n",
              "  .colab-df-quickchart {\n",
              "    background-color: var(--bg-color);\n",
              "    border: none;\n",
              "    border-radius: 50%;\n",
              "    cursor: pointer;\n",
              "    display: none;\n",
              "    fill: var(--fill-color);\n",
              "    height: 32px;\n",
              "    padding: 0;\n",
              "    width: 32px;\n",
              "  }\n",
              "\n",
              "  .colab-df-quickchart:hover {\n",
              "    background-color: var(--hover-bg-color);\n",
              "    box-shadow: 0 1px 2px rgba(60, 64, 67, 0.3), 0 1px 3px 1px rgba(60, 64, 67, 0.15);\n",
              "    fill: var(--button-hover-fill-color);\n",
              "  }\n",
              "\n",
              "  .colab-df-quickchart-complete:disabled,\n",
              "  .colab-df-quickchart-complete:disabled:hover {\n",
              "    background-color: var(--disabled-bg-color);\n",
              "    fill: var(--disabled-fill-color);\n",
              "    box-shadow: none;\n",
              "  }\n",
              "\n",
              "  .colab-df-spinner {\n",
              "    border: 2px solid var(--fill-color);\n",
              "    border-color: transparent;\n",
              "    border-bottom-color: var(--fill-color);\n",
              "    animation:\n",
              "      spin 1s steps(1) infinite;\n",
              "  }\n",
              "\n",
              "  @keyframes spin {\n",
              "    0% {\n",
              "      border-color: transparent;\n",
              "      border-bottom-color: var(--fill-color);\n",
              "      border-left-color: var(--fill-color);\n",
              "    }\n",
              "    20% {\n",
              "      border-color: transparent;\n",
              "      border-left-color: var(--fill-color);\n",
              "      border-top-color: var(--fill-color);\n",
              "    }\n",
              "    30% {\n",
              "      border-color: transparent;\n",
              "      border-left-color: var(--fill-color);\n",
              "      border-top-color: var(--fill-color);\n",
              "      border-right-color: var(--fill-color);\n",
              "    }\n",
              "    40% {\n",
              "      border-color: transparent;\n",
              "      border-right-color: var(--fill-color);\n",
              "      border-top-color: var(--fill-color);\n",
              "    }\n",
              "    60% {\n",
              "      border-color: transparent;\n",
              "      border-right-color: var(--fill-color);\n",
              "    }\n",
              "    80% {\n",
              "      border-color: transparent;\n",
              "      border-right-color: var(--fill-color);\n",
              "      border-bottom-color: var(--fill-color);\n",
              "    }\n",
              "    90% {\n",
              "      border-color: transparent;\n",
              "      border-bottom-color: var(--fill-color);\n",
              "    }\n",
              "  }\n",
              "</style>\n",
              "\n",
              "  <script>\n",
              "    async function quickchart(key) {\n",
              "      const quickchartButtonEl =\n",
              "        document.querySelector('#' + key + ' button');\n",
              "      quickchartButtonEl.disabled = true;  // To prevent multiple clicks.\n",
              "      quickchartButtonEl.classList.add('colab-df-spinner');\n",
              "      try {\n",
              "        const charts = await google.colab.kernel.invokeFunction(\n",
              "            'suggestCharts', [key], {});\n",
              "      } catch (error) {\n",
              "        console.error('Error during call to suggestCharts:', error);\n",
              "      }\n",
              "      quickchartButtonEl.classList.remove('colab-df-spinner');\n",
              "      quickchartButtonEl.classList.add('colab-df-quickchart-complete');\n",
              "    }\n",
              "    (() => {\n",
              "      let quickchartButtonEl =\n",
              "        document.querySelector('#df-2c529114-5fef-4a7a-89e1-3b11faaf46a8 button');\n",
              "      quickchartButtonEl.style.display =\n",
              "        google.colab.kernel.accessAllowed ? 'block' : 'none';\n",
              "    })();\n",
              "  </script>\n",
              "</div>\n",
              "\n",
              "    </div>\n",
              "  </div>\n"
            ],
            "application/vnd.google.colaboratory.intrinsic+json": {
              "type": "dataframe",
              "variable_name": "df2"
            }
          },
          "metadata": {},
          "execution_count": 13
        }
      ]
    },
    {
      "cell_type": "code",
      "source": [
        "df2['State'].unique()"
      ],
      "metadata": {
        "execution": {
          "iopub.status.busy": "2024-03-15T09:03:03.267008Z",
          "iopub.execute_input": "2024-03-15T09:03:03.268059Z",
          "iopub.status.idle": "2024-03-15T09:03:03.305498Z",
          "shell.execute_reply.started": "2024-03-15T09:03:03.267957Z",
          "shell.execute_reply": "2024-03-15T09:03:03.304307Z"
        },
        "trusted": true,
        "colab": {
          "base_uri": "https://localhost:8080/"
        },
        "id": "gNkEjFQQaL83",
        "outputId": "cc9b6a16-4037-4966-ba04-3ffe18c2b9b1"
      },
      "execution_count": 14,
      "outputs": [
        {
          "output_type": "execute_result",
          "data": {
            "text/plain": [
              "array(['Andaman and Nicobar Islands', 'Andhra Pradesh',\n",
              "       'Arunachal Pradesh', 'Assam', 'Bihar', 'Chandigarh',\n",
              "       'Chhattisgarh', 'Dadra and Nagar Haveli', 'Daman and Diu', 'Delhi',\n",
              "       'Goa', 'Gujarat', 'Haryana', 'Himachal Pradesh',\n",
              "       'Jammu and Kashmir', 'Jharkhand', 'Karnataka', 'Kerala',\n",
              "       'Madhya Pradesh', 'Maharashtra', 'Manipur', 'Meghalaya', 'Mizoram',\n",
              "       'Nagaland', 'Odisha', 'Puducherry', 'Punjab', 'Rajasthan',\n",
              "       'Sikkim', 'Tamil Nadu', 'Tripura', 'Uttar Pradesh', 'Uttarakhand',\n",
              "       'West Bengal', 'Telangana', 'Laddakh'], dtype=object)"
            ]
          },
          "metadata": {},
          "execution_count": 14
        }
      ]
    },
    {
      "cell_type": "code",
      "source": [
        "from sklearn.model_selection import train_test_split"
      ],
      "metadata": {
        "execution": {
          "iopub.status.busy": "2024-03-15T09:03:03.594151Z",
          "iopub.execute_input": "2024-03-15T09:03:03.594830Z",
          "iopub.status.idle": "2024-03-15T09:03:03.599943Z",
          "shell.execute_reply.started": "2024-03-15T09:03:03.594793Z",
          "shell.execute_reply": "2024-03-15T09:03:03.598389Z"
        },
        "trusted": true,
        "id": "gOwyyhItaL83"
      },
      "execution_count": 15,
      "outputs": []
    },
    {
      "cell_type": "code",
      "source": [
        "df2['Crop'].value_counts()[:10]"
      ],
      "metadata": {
        "colab": {
          "base_uri": "https://localhost:8080/"
        },
        "id": "zgW0m9S4JNSh",
        "outputId": "c4fca0ad-21a4-4ba9-e6c0-4d9a33c1525c"
      },
      "execution_count": 16,
      "outputs": [
        {
          "output_type": "execute_result",
          "data": {
            "text/plain": [
              "Rice                 21573\n",
              "Maize                20329\n",
              "Moong(Green Gram)    14813\n",
              "Urad                 14389\n",
              "Sesamum              12744\n",
              "Groundnut            12515\n",
              "Wheat                11219\n",
              "Rapeseed &Mustard    10919\n",
              "Sugarcane            10826\n",
              "Arhar/Tur            10774\n",
              "Name: Crop, dtype: int64"
            ]
          },
          "metadata": {},
          "execution_count": 16
        }
      ]
    },
    {
      "cell_type": "code",
      "source": [
        "top_crops = df2['Crop'].value_counts()[:10].index.tolist()\n",
        "top_crops"
      ],
      "metadata": {
        "colab": {
          "base_uri": "https://localhost:8080/"
        },
        "id": "yR8sAh0SJwe1",
        "outputId": "29ba059a-b942-4f7d-be45-e857fcf9d7af"
      },
      "execution_count": 17,
      "outputs": [
        {
          "output_type": "execute_result",
          "data": {
            "text/plain": [
              "['Rice',\n",
              " 'Maize',\n",
              " 'Moong(Green Gram)',\n",
              " 'Urad',\n",
              " 'Sesamum',\n",
              " 'Groundnut',\n",
              " 'Wheat',\n",
              " 'Rapeseed &Mustard',\n",
              " 'Sugarcane',\n",
              " 'Arhar/Tur']"
            ]
          },
          "metadata": {},
          "execution_count": 17
        }
      ]
    },
    {
      "cell_type": "code",
      "source": [
        "df2 = df2[df2['Crop'].isin(top_crops)]"
      ],
      "metadata": {
        "id": "KbOqx86PGP8d"
      },
      "execution_count": 18,
      "outputs": []
    },
    {
      "cell_type": "code",
      "source": [
        "df2.shape"
      ],
      "metadata": {
        "colab": {
          "base_uri": "https://localhost:8080/"
        },
        "id": "Q8UkjIrwKWER",
        "outputId": "39347efe-86a2-45a6-c6ac-b9360c2ad455"
      },
      "execution_count": 19,
      "outputs": [
        {
          "output_type": "execute_result",
          "data": {
            "text/plain": [
              "(140101, 10)"
            ]
          },
          "metadata": {},
          "execution_count": 19
        }
      ]
    },
    {
      "cell_type": "code",
      "source": [
        "X = df2.drop('Production', axis = 1)\n",
        "X.head()"
      ],
      "metadata": {
        "execution": {
          "iopub.status.busy": "2024-03-15T09:03:03.956482Z",
          "iopub.execute_input": "2024-03-15T09:03:03.957426Z",
          "iopub.status.idle": "2024-03-15T09:03:03.996891Z",
          "shell.execute_reply.started": "2024-03-15T09:03:03.957388Z",
          "shell.execute_reply": "2024-03-15T09:03:03.995751Z"
        },
        "trusted": true,
        "colab": {
          "base_uri": "https://localhost:8080/",
          "height": 310
        },
        "id": "H_gtZjGyaL83",
        "outputId": "3b88aba4-f45d-4a51-ff38-4e94ad28d686"
      },
      "execution_count": 20,
      "outputs": [
        {
          "output_type": "execute_result",
          "data": {
            "text/plain": [
              "                          State                  District  Crop     Year  \\\n",
              "41  Andaman and Nicobar Islands                  NICOBARS  Rice  2001-02   \n",
              "42  Andaman and Nicobar Islands                  NICOBARS  Rice  2002-03   \n",
              "43  Andaman and Nicobar Islands                  NICOBARS  Rice  2003-04   \n",
              "44  Andaman and Nicobar Islands  NORTH AND MIDDLE ANDAMAN  Rice  2001-02   \n",
              "45  Andaman and Nicobar Islands            SOUTH ANDAMANS  Rice  2002-03   \n",
              "\n",
              "    Season     Area Area Units Production Units     Yield  \n",
              "41  Kharif     83.0    Hectare           Tonnes  3.614458  \n",
              "42  Kharif    189.2    Hectare           Tonnes  2.700000  \n",
              "43  Kharif     52.0    Hectare           Tonnes  1.734038  \n",
              "44  Kharif   9718.0    Hectare           Tonnes  2.781745  \n",
              "45  Kharif  10695.8    Hectare           Tonnes  2.954507  "
            ],
            "text/html": [
              "\n",
              "  <div id=\"df-4b407f03-182f-4f1a-beb7-2aab9c4d0a76\" class=\"colab-df-container\">\n",
              "    <div>\n",
              "<style scoped>\n",
              "    .dataframe tbody tr th:only-of-type {\n",
              "        vertical-align: middle;\n",
              "    }\n",
              "\n",
              "    .dataframe tbody tr th {\n",
              "        vertical-align: top;\n",
              "    }\n",
              "\n",
              "    .dataframe thead th {\n",
              "        text-align: right;\n",
              "    }\n",
              "</style>\n",
              "<table border=\"1\" class=\"dataframe\">\n",
              "  <thead>\n",
              "    <tr style=\"text-align: right;\">\n",
              "      <th></th>\n",
              "      <th>State</th>\n",
              "      <th>District</th>\n",
              "      <th>Crop</th>\n",
              "      <th>Year</th>\n",
              "      <th>Season</th>\n",
              "      <th>Area</th>\n",
              "      <th>Area Units</th>\n",
              "      <th>Production Units</th>\n",
              "      <th>Yield</th>\n",
              "    </tr>\n",
              "  </thead>\n",
              "  <tbody>\n",
              "    <tr>\n",
              "      <th>41</th>\n",
              "      <td>Andaman and Nicobar Islands</td>\n",
              "      <td>NICOBARS</td>\n",
              "      <td>Rice</td>\n",
              "      <td>2001-02</td>\n",
              "      <td>Kharif</td>\n",
              "      <td>83.0</td>\n",
              "      <td>Hectare</td>\n",
              "      <td>Tonnes</td>\n",
              "      <td>3.614458</td>\n",
              "    </tr>\n",
              "    <tr>\n",
              "      <th>42</th>\n",
              "      <td>Andaman and Nicobar Islands</td>\n",
              "      <td>NICOBARS</td>\n",
              "      <td>Rice</td>\n",
              "      <td>2002-03</td>\n",
              "      <td>Kharif</td>\n",
              "      <td>189.2</td>\n",
              "      <td>Hectare</td>\n",
              "      <td>Tonnes</td>\n",
              "      <td>2.700000</td>\n",
              "    </tr>\n",
              "    <tr>\n",
              "      <th>43</th>\n",
              "      <td>Andaman and Nicobar Islands</td>\n",
              "      <td>NICOBARS</td>\n",
              "      <td>Rice</td>\n",
              "      <td>2003-04</td>\n",
              "      <td>Kharif</td>\n",
              "      <td>52.0</td>\n",
              "      <td>Hectare</td>\n",
              "      <td>Tonnes</td>\n",
              "      <td>1.734038</td>\n",
              "    </tr>\n",
              "    <tr>\n",
              "      <th>44</th>\n",
              "      <td>Andaman and Nicobar Islands</td>\n",
              "      <td>NORTH AND MIDDLE ANDAMAN</td>\n",
              "      <td>Rice</td>\n",
              "      <td>2001-02</td>\n",
              "      <td>Kharif</td>\n",
              "      <td>9718.0</td>\n",
              "      <td>Hectare</td>\n",
              "      <td>Tonnes</td>\n",
              "      <td>2.781745</td>\n",
              "    </tr>\n",
              "    <tr>\n",
              "      <th>45</th>\n",
              "      <td>Andaman and Nicobar Islands</td>\n",
              "      <td>SOUTH ANDAMANS</td>\n",
              "      <td>Rice</td>\n",
              "      <td>2002-03</td>\n",
              "      <td>Kharif</td>\n",
              "      <td>10695.8</td>\n",
              "      <td>Hectare</td>\n",
              "      <td>Tonnes</td>\n",
              "      <td>2.954507</td>\n",
              "    </tr>\n",
              "  </tbody>\n",
              "</table>\n",
              "</div>\n",
              "    <div class=\"colab-df-buttons\">\n",
              "\n",
              "  <div class=\"colab-df-container\">\n",
              "    <button class=\"colab-df-convert\" onclick=\"convertToInteractive('df-4b407f03-182f-4f1a-beb7-2aab9c4d0a76')\"\n",
              "            title=\"Convert this dataframe to an interactive table.\"\n",
              "            style=\"display:none;\">\n",
              "\n",
              "  <svg xmlns=\"http://www.w3.org/2000/svg\" height=\"24px\" viewBox=\"0 -960 960 960\">\n",
              "    <path d=\"M120-120v-720h720v720H120Zm60-500h600v-160H180v160Zm220 220h160v-160H400v160Zm0 220h160v-160H400v160ZM180-400h160v-160H180v160Zm440 0h160v-160H620v160ZM180-180h160v-160H180v160Zm440 0h160v-160H620v160Z\"/>\n",
              "  </svg>\n",
              "    </button>\n",
              "\n",
              "  <style>\n",
              "    .colab-df-container {\n",
              "      display:flex;\n",
              "      gap: 12px;\n",
              "    }\n",
              "\n",
              "    .colab-df-convert {\n",
              "      background-color: #E8F0FE;\n",
              "      border: none;\n",
              "      border-radius: 50%;\n",
              "      cursor: pointer;\n",
              "      display: none;\n",
              "      fill: #1967D2;\n",
              "      height: 32px;\n",
              "      padding: 0 0 0 0;\n",
              "      width: 32px;\n",
              "    }\n",
              "\n",
              "    .colab-df-convert:hover {\n",
              "      background-color: #E2EBFA;\n",
              "      box-shadow: 0px 1px 2px rgba(60, 64, 67, 0.3), 0px 1px 3px 1px rgba(60, 64, 67, 0.15);\n",
              "      fill: #174EA6;\n",
              "    }\n",
              "\n",
              "    .colab-df-buttons div {\n",
              "      margin-bottom: 4px;\n",
              "    }\n",
              "\n",
              "    [theme=dark] .colab-df-convert {\n",
              "      background-color: #3B4455;\n",
              "      fill: #D2E3FC;\n",
              "    }\n",
              "\n",
              "    [theme=dark] .colab-df-convert:hover {\n",
              "      background-color: #434B5C;\n",
              "      box-shadow: 0px 1px 3px 1px rgba(0, 0, 0, 0.15);\n",
              "      filter: drop-shadow(0px 1px 2px rgba(0, 0, 0, 0.3));\n",
              "      fill: #FFFFFF;\n",
              "    }\n",
              "  </style>\n",
              "\n",
              "    <script>\n",
              "      const buttonEl =\n",
              "        document.querySelector('#df-4b407f03-182f-4f1a-beb7-2aab9c4d0a76 button.colab-df-convert');\n",
              "      buttonEl.style.display =\n",
              "        google.colab.kernel.accessAllowed ? 'block' : 'none';\n",
              "\n",
              "      async function convertToInteractive(key) {\n",
              "        const element = document.querySelector('#df-4b407f03-182f-4f1a-beb7-2aab9c4d0a76');\n",
              "        const dataTable =\n",
              "          await google.colab.kernel.invokeFunction('convertToInteractive',\n",
              "                                                    [key], {});\n",
              "        if (!dataTable) return;\n",
              "\n",
              "        const docLinkHtml = 'Like what you see? Visit the ' +\n",
              "          '<a target=\"_blank\" href=https://colab.research.google.com/notebooks/data_table.ipynb>data table notebook</a>'\n",
              "          + ' to learn more about interactive tables.';\n",
              "        element.innerHTML = '';\n",
              "        dataTable['output_type'] = 'display_data';\n",
              "        await google.colab.output.renderOutput(dataTable, element);\n",
              "        const docLink = document.createElement('div');\n",
              "        docLink.innerHTML = docLinkHtml;\n",
              "        element.appendChild(docLink);\n",
              "      }\n",
              "    </script>\n",
              "  </div>\n",
              "\n",
              "\n",
              "<div id=\"df-2626e639-5994-4ad9-ac5a-b5527e7443ce\">\n",
              "  <button class=\"colab-df-quickchart\" onclick=\"quickchart('df-2626e639-5994-4ad9-ac5a-b5527e7443ce')\"\n",
              "            title=\"Suggest charts\"\n",
              "            style=\"display:none;\">\n",
              "\n",
              "<svg xmlns=\"http://www.w3.org/2000/svg\" height=\"24px\"viewBox=\"0 0 24 24\"\n",
              "     width=\"24px\">\n",
              "    <g>\n",
              "        <path d=\"M19 3H5c-1.1 0-2 .9-2 2v14c0 1.1.9 2 2 2h14c1.1 0 2-.9 2-2V5c0-1.1-.9-2-2-2zM9 17H7v-7h2v7zm4 0h-2V7h2v10zm4 0h-2v-4h2v4z\"/>\n",
              "    </g>\n",
              "</svg>\n",
              "  </button>\n",
              "\n",
              "<style>\n",
              "  .colab-df-quickchart {\n",
              "      --bg-color: #E8F0FE;\n",
              "      --fill-color: #1967D2;\n",
              "      --hover-bg-color: #E2EBFA;\n",
              "      --hover-fill-color: #174EA6;\n",
              "      --disabled-fill-color: #AAA;\n",
              "      --disabled-bg-color: #DDD;\n",
              "  }\n",
              "\n",
              "  [theme=dark] .colab-df-quickchart {\n",
              "      --bg-color: #3B4455;\n",
              "      --fill-color: #D2E3FC;\n",
              "      --hover-bg-color: #434B5C;\n",
              "      --hover-fill-color: #FFFFFF;\n",
              "      --disabled-bg-color: #3B4455;\n",
              "      --disabled-fill-color: #666;\n",
              "  }\n",
              "\n",
              "  .colab-df-quickchart {\n",
              "    background-color: var(--bg-color);\n",
              "    border: none;\n",
              "    border-radius: 50%;\n",
              "    cursor: pointer;\n",
              "    display: none;\n",
              "    fill: var(--fill-color);\n",
              "    height: 32px;\n",
              "    padding: 0;\n",
              "    width: 32px;\n",
              "  }\n",
              "\n",
              "  .colab-df-quickchart:hover {\n",
              "    background-color: var(--hover-bg-color);\n",
              "    box-shadow: 0 1px 2px rgba(60, 64, 67, 0.3), 0 1px 3px 1px rgba(60, 64, 67, 0.15);\n",
              "    fill: var(--button-hover-fill-color);\n",
              "  }\n",
              "\n",
              "  .colab-df-quickchart-complete:disabled,\n",
              "  .colab-df-quickchart-complete:disabled:hover {\n",
              "    background-color: var(--disabled-bg-color);\n",
              "    fill: var(--disabled-fill-color);\n",
              "    box-shadow: none;\n",
              "  }\n",
              "\n",
              "  .colab-df-spinner {\n",
              "    border: 2px solid var(--fill-color);\n",
              "    border-color: transparent;\n",
              "    border-bottom-color: var(--fill-color);\n",
              "    animation:\n",
              "      spin 1s steps(1) infinite;\n",
              "  }\n",
              "\n",
              "  @keyframes spin {\n",
              "    0% {\n",
              "      border-color: transparent;\n",
              "      border-bottom-color: var(--fill-color);\n",
              "      border-left-color: var(--fill-color);\n",
              "    }\n",
              "    20% {\n",
              "      border-color: transparent;\n",
              "      border-left-color: var(--fill-color);\n",
              "      border-top-color: var(--fill-color);\n",
              "    }\n",
              "    30% {\n",
              "      border-color: transparent;\n",
              "      border-left-color: var(--fill-color);\n",
              "      border-top-color: var(--fill-color);\n",
              "      border-right-color: var(--fill-color);\n",
              "    }\n",
              "    40% {\n",
              "      border-color: transparent;\n",
              "      border-right-color: var(--fill-color);\n",
              "      border-top-color: var(--fill-color);\n",
              "    }\n",
              "    60% {\n",
              "      border-color: transparent;\n",
              "      border-right-color: var(--fill-color);\n",
              "    }\n",
              "    80% {\n",
              "      border-color: transparent;\n",
              "      border-right-color: var(--fill-color);\n",
              "      border-bottom-color: var(--fill-color);\n",
              "    }\n",
              "    90% {\n",
              "      border-color: transparent;\n",
              "      border-bottom-color: var(--fill-color);\n",
              "    }\n",
              "  }\n",
              "</style>\n",
              "\n",
              "  <script>\n",
              "    async function quickchart(key) {\n",
              "      const quickchartButtonEl =\n",
              "        document.querySelector('#' + key + ' button');\n",
              "      quickchartButtonEl.disabled = true;  // To prevent multiple clicks.\n",
              "      quickchartButtonEl.classList.add('colab-df-spinner');\n",
              "      try {\n",
              "        const charts = await google.colab.kernel.invokeFunction(\n",
              "            'suggestCharts', [key], {});\n",
              "      } catch (error) {\n",
              "        console.error('Error during call to suggestCharts:', error);\n",
              "      }\n",
              "      quickchartButtonEl.classList.remove('colab-df-spinner');\n",
              "      quickchartButtonEl.classList.add('colab-df-quickchart-complete');\n",
              "    }\n",
              "    (() => {\n",
              "      let quickchartButtonEl =\n",
              "        document.querySelector('#df-2626e639-5994-4ad9-ac5a-b5527e7443ce button');\n",
              "      quickchartButtonEl.style.display =\n",
              "        google.colab.kernel.accessAllowed ? 'block' : 'none';\n",
              "    })();\n",
              "  </script>\n",
              "</div>\n",
              "\n",
              "    </div>\n",
              "  </div>\n"
            ],
            "application/vnd.google.colaboratory.intrinsic+json": {
              "type": "dataframe",
              "variable_name": "X"
            }
          },
          "metadata": {},
          "execution_count": 20
        }
      ]
    },
    {
      "cell_type": "code",
      "source": [],
      "metadata": {
        "id": "Wcir7tnLGkfN"
      },
      "execution_count": 20,
      "outputs": []
    },
    {
      "cell_type": "code",
      "source": [
        "y = df2['Production']\n",
        "y.head()"
      ],
      "metadata": {
        "execution": {
          "iopub.status.busy": "2024-03-15T09:03:04.335520Z",
          "iopub.execute_input": "2024-03-15T09:03:04.335982Z",
          "iopub.status.idle": "2024-03-15T09:03:04.344646Z",
          "shell.execute_reply.started": "2024-03-15T09:03:04.335932Z",
          "shell.execute_reply": "2024-03-15T09:03:04.343482Z"
        },
        "trusted": true,
        "colab": {
          "base_uri": "https://localhost:8080/"
        },
        "id": "-Ggfp20paL83",
        "outputId": "574e3bc9-6f61-42b3-d17f-615b20266e14"
      },
      "execution_count": 21,
      "outputs": [
        {
          "output_type": "execute_result",
          "data": {
            "text/plain": [
              "41      300.00\n",
              "42      510.84\n",
              "43       90.17\n",
              "44    27033.00\n",
              "45    31600.82\n",
              "Name: Production, dtype: float64"
            ]
          },
          "metadata": {},
          "execution_count": 21
        }
      ]
    },
    {
      "cell_type": "code",
      "source": [
        "X_train, X_test, y_train, y_test = train_test_split(X, y, test_size=0.33, random_state=101)"
      ],
      "metadata": {
        "execution": {
          "iopub.status.busy": "2024-03-15T09:03:04.657100Z",
          "iopub.execute_input": "2024-03-15T09:03:04.657512Z",
          "iopub.status.idle": "2024-03-15T09:03:04.882326Z",
          "shell.execute_reply.started": "2024-03-15T09:03:04.657482Z",
          "shell.execute_reply": "2024-03-15T09:03:04.881097Z"
        },
        "trusted": true,
        "id": "e0gqMEQkaL83"
      },
      "execution_count": 22,
      "outputs": []
    },
    {
      "cell_type": "code",
      "source": [
        "X_train.shape, X_test.shape, y_train.shape, y_test.shape"
      ],
      "metadata": {
        "execution": {
          "iopub.status.busy": "2024-03-15T09:03:04.990647Z",
          "iopub.execute_input": "2024-03-15T09:03:04.991110Z",
          "iopub.status.idle": "2024-03-15T09:03:04.999147Z",
          "shell.execute_reply.started": "2024-03-15T09:03:04.991076Z",
          "shell.execute_reply": "2024-03-15T09:03:04.997953Z"
        },
        "trusted": true,
        "colab": {
          "base_uri": "https://localhost:8080/"
        },
        "id": "iYC830oJaL83",
        "outputId": "28877804-5177-43b2-8b77-5a6f53cedf03"
      },
      "execution_count": 23,
      "outputs": [
        {
          "output_type": "execute_result",
          "data": {
            "text/plain": [
              "((93867, 9), (46234, 9), (93867,), (46234,))"
            ]
          },
          "metadata": {},
          "execution_count": 23
        }
      ]
    },
    {
      "cell_type": "code",
      "source": [
        "X_train.info()"
      ],
      "metadata": {
        "id": "shNLSKwTaL84",
        "colab": {
          "base_uri": "https://localhost:8080/"
        },
        "outputId": "ea327a94-17cf-4fe9-9b66-7c94dc1d4e53"
      },
      "execution_count": 24,
      "outputs": [
        {
          "output_type": "stream",
          "name": "stdout",
          "text": [
            "<class 'pandas.core.frame.DataFrame'>\n",
            "Int64Index: 93867 entries, 117206 to 338800\n",
            "Data columns (total 9 columns):\n",
            " #   Column            Non-Null Count  Dtype  \n",
            "---  ------            --------------  -----  \n",
            " 0   State             93867 non-null  object \n",
            " 1   District          93867 non-null  object \n",
            " 2   Crop              93867 non-null  object \n",
            " 3   Year              93867 non-null  object \n",
            " 4   Season            93867 non-null  object \n",
            " 5   Area              93867 non-null  float64\n",
            " 6   Area Units        93867 non-null  object \n",
            " 7   Production Units  93867 non-null  object \n",
            " 8   Yield             93867 non-null  float64\n",
            "dtypes: float64(2), object(7)\n",
            "memory usage: 7.2+ MB\n"
          ]
        }
      ]
    },
    {
      "cell_type": "markdown",
      "source": [
        "## Data Preprocessing Pipeline"
      ],
      "metadata": {
        "id": "DnfHLntKaL85"
      }
    },
    {
      "cell_type": "code",
      "source": [
        "df2.shape"
      ],
      "metadata": {
        "colab": {
          "base_uri": "https://localhost:8080/"
        },
        "id": "1XA0T8GdHEe6",
        "outputId": "4dc5e6ad-0fc9-4d62-f866-977a0db2de68"
      },
      "execution_count": 25,
      "outputs": [
        {
          "output_type": "execute_result",
          "data": {
            "text/plain": [
              "(140101, 10)"
            ]
          },
          "metadata": {},
          "execution_count": 25
        }
      ]
    },
    {
      "cell_type": "code",
      "source": [
        "state_encoding = {state : i+1 for i, state in enumerate(df2['State'].unique())}\n",
        "state_encoding"
      ],
      "metadata": {
        "scrolled": true,
        "execution": {
          "iopub.status.busy": "2024-03-15T09:03:07.913715Z",
          "iopub.execute_input": "2024-03-15T09:03:07.914478Z",
          "iopub.status.idle": "2024-03-15T09:03:07.959499Z",
          "shell.execute_reply.started": "2024-03-15T09:03:07.914433Z",
          "shell.execute_reply": "2024-03-15T09:03:07.958194Z"
        },
        "trusted": true,
        "colab": {
          "base_uri": "https://localhost:8080/"
        },
        "id": "LVA7TscXaL85",
        "outputId": "f0a3b187-e8bd-4022-d918-9fbda94934db"
      },
      "execution_count": 26,
      "outputs": [
        {
          "output_type": "execute_result",
          "data": {
            "text/plain": [
              "{'Andaman and Nicobar Islands': 1,\n",
              " 'Andhra Pradesh': 2,\n",
              " 'Arunachal Pradesh': 3,\n",
              " 'Assam': 4,\n",
              " 'Bihar': 5,\n",
              " 'Chandigarh': 6,\n",
              " 'Chhattisgarh': 7,\n",
              " 'Dadra and Nagar Haveli': 8,\n",
              " 'Daman and Diu': 9,\n",
              " 'Delhi': 10,\n",
              " 'Goa': 11,\n",
              " 'Gujarat': 12,\n",
              " 'Haryana': 13,\n",
              " 'Himachal Pradesh': 14,\n",
              " 'Jammu and Kashmir': 15,\n",
              " 'Jharkhand': 16,\n",
              " 'Karnataka': 17,\n",
              " 'Kerala': 18,\n",
              " 'Madhya Pradesh': 19,\n",
              " 'Maharashtra': 20,\n",
              " 'Manipur': 21,\n",
              " 'Meghalaya': 22,\n",
              " 'Mizoram': 23,\n",
              " 'Nagaland': 24,\n",
              " 'Odisha': 25,\n",
              " 'Puducherry': 26,\n",
              " 'Punjab': 27,\n",
              " 'Rajasthan': 28,\n",
              " 'Sikkim': 29,\n",
              " 'Tamil Nadu': 30,\n",
              " 'Tripura': 31,\n",
              " 'Uttar Pradesh': 32,\n",
              " 'Uttarakhand': 33,\n",
              " 'West Bengal': 34,\n",
              " 'Telangana': 35}"
            ]
          },
          "metadata": {},
          "execution_count": 26
        }
      ]
    },
    {
      "cell_type": "code",
      "source": [
        "crop_encoding = {crop : i+1 for i, crop in enumerate(df2['Crop'].unique())}\n",
        "crop_encoding"
      ],
      "metadata": {
        "scrolled": true,
        "execution": {
          "iopub.status.busy": "2024-03-15T09:03:08.353819Z",
          "iopub.execute_input": "2024-03-15T09:03:08.354230Z",
          "iopub.status.idle": "2024-03-15T09:03:08.394863Z",
          "shell.execute_reply.started": "2024-03-15T09:03:08.354199Z",
          "shell.execute_reply": "2024-03-15T09:03:08.393505Z"
        },
        "trusted": true,
        "colab": {
          "base_uri": "https://localhost:8080/"
        },
        "id": "uDRPw6K-aL85",
        "outputId": "9f3cd157-1bec-4236-c8a3-41787bc4c71e"
      },
      "execution_count": 27,
      "outputs": [
        {
          "output_type": "execute_result",
          "data": {
            "text/plain": [
              "{'Rice': 1,\n",
              " 'Sugarcane': 2,\n",
              " 'Arhar/Tur': 3,\n",
              " 'Groundnut': 4,\n",
              " 'Maize': 5,\n",
              " 'Moong(Green Gram)': 6,\n",
              " 'Rapeseed &Mustard': 7,\n",
              " 'Sesamum': 8,\n",
              " 'Urad': 9,\n",
              " 'Wheat': 10}"
            ]
          },
          "metadata": {},
          "execution_count": 27
        }
      ]
    },
    {
      "cell_type": "code",
      "source": [
        "season_encoding = {season : i+1 for i, season in enumerate(df2['Season'].unique())}\n",
        "season_encoding"
      ],
      "metadata": {
        "execution": {
          "iopub.status.busy": "2024-03-15T09:03:08.690796Z",
          "iopub.execute_input": "2024-03-15T09:03:08.691222Z",
          "iopub.status.idle": "2024-03-15T09:03:08.729185Z",
          "shell.execute_reply.started": "2024-03-15T09:03:08.691187Z",
          "shell.execute_reply": "2024-03-15T09:03:08.727186Z"
        },
        "trusted": true,
        "colab": {
          "base_uri": "https://localhost:8080/"
        },
        "id": "Abr8U0vJaL85",
        "outputId": "b437ab44-1d10-4503-8fe9-3d86c10dbcdc"
      },
      "execution_count": 28,
      "outputs": [
        {
          "output_type": "execute_result",
          "data": {
            "text/plain": [
              "{'Kharif': 1,\n",
              " 'Whole Year': 2,\n",
              " 'Rabi': 3,\n",
              " 'Autumn': 4,\n",
              " 'Summer': 5,\n",
              " 'Winter': 6}"
            ]
          },
          "metadata": {},
          "execution_count": 28
        }
      ]
    },
    {
      "cell_type": "code",
      "source": [
        "from sklearn.base import BaseEstimator, TransformerMixin\n",
        "from sklearn.preprocessing import StandardScaler, MinMaxScaler"
      ],
      "metadata": {
        "execution": {
          "iopub.status.busy": "2024-03-15T09:03:11.063265Z",
          "iopub.execute_input": "2024-03-15T09:03:11.063652Z",
          "iopub.status.idle": "2024-03-15T09:03:11.069274Z",
          "shell.execute_reply.started": "2024-03-15T09:03:11.063622Z",
          "shell.execute_reply": "2024-03-15T09:03:11.067866Z"
        },
        "trusted": true,
        "id": "BLoWXlhaaL85"
      },
      "execution_count": 29,
      "outputs": []
    },
    {
      "cell_type": "code",
      "source": [
        "# Func to drop Cols\n",
        "class ColumnDropper(BaseEstimator, TransformerMixin):\n",
        "\n",
        "    def fit(self, X, y=None):\n",
        "        return self\n",
        "\n",
        "    def transform(self, X):\n",
        "        return X.drop(['District', 'Area Units', 'State', 'Crop', 'Year', 'Season', 'Production Units', 'Yield'], axis=1)"
      ],
      "metadata": {
        "execution": {
          "iopub.status.busy": "2024-03-15T09:03:11.071546Z",
          "iopub.execute_input": "2024-03-15T09:03:11.072089Z",
          "iopub.status.idle": "2024-03-15T09:03:11.081515Z",
          "shell.execute_reply.started": "2024-03-15T09:03:11.072055Z",
          "shell.execute_reply": "2024-03-15T09:03:11.080328Z"
        },
        "trusted": true,
        "id": "cnv5jAaFaL85"
      },
      "execution_count": 30,
      "outputs": []
    },
    {
      "cell_type": "code",
      "source": [
        "# Func to Transform cols\n",
        "class FeatureTransformation(BaseEstimator, TransformerMixin):\n",
        "\n",
        "    def fit(self, X, y=None):\n",
        "        return self\n",
        "\n",
        "    def transform(self, X):\n",
        "\n",
        "        # Encode 'State' column\n",
        "        X['State_enc'] = X['State'].map(state_encoding)\n",
        "\n",
        "\n",
        "        # Encode 'Crop' column\n",
        "        X['Crop_enc'] = X['Crop'].map(crop_encoding)\n",
        "\n",
        "        # Encode 'Year' column\n",
        "        X['Year_enc'] = X['Year'].str.split('-').str[0].astype(int)\n",
        "\n",
        "        # Encode 'Season' column\n",
        "        X['Season_enc'] = X['Season'].map(season_encoding)\n",
        "\n",
        "        return X"
      ],
      "metadata": {
        "execution": {
          "iopub.status.busy": "2024-03-15T09:03:11.083045Z",
          "iopub.execute_input": "2024-03-15T09:03:11.083528Z",
          "iopub.status.idle": "2024-03-15T09:03:11.096673Z",
          "shell.execute_reply.started": "2024-03-15T09:03:11.083485Z",
          "shell.execute_reply": "2024-03-15T09:03:11.094996Z"
        },
        "trusted": true,
        "id": "QSapu0UWaL85"
      },
      "execution_count": 31,
      "outputs": []
    },
    {
      "cell_type": "code",
      "source": [
        "class Scaler(BaseEstimator, TransformerMixin):\n",
        "        def fit(self, X, y=None):\n",
        "            return self\n",
        "\n",
        "        def transform(self, X):\n",
        "            scaler = MinMaxScaler()\n",
        "            X_scaled = scaler.fit_transform(X)\n",
        "            return pd.DataFrame(X_scaled, columns=X.columns)"
      ],
      "metadata": {
        "execution": {
          "iopub.status.busy": "2024-03-15T09:03:11.099229Z",
          "iopub.execute_input": "2024-03-15T09:03:11.099724Z",
          "iopub.status.idle": "2024-03-15T09:03:11.109811Z",
          "shell.execute_reply.started": "2024-03-15T09:03:11.099680Z",
          "shell.execute_reply": "2024-03-15T09:03:11.108680Z"
        },
        "trusted": true,
        "id": "GqLblgmQaL86"
      },
      "execution_count": 32,
      "outputs": []
    },
    {
      "cell_type": "code",
      "source": [
        "from sklearn.pipeline import Pipeline\n",
        "\n",
        "# steps = [\n",
        "#     ('transformer', FeatureTransformation()),\n",
        "#     ('selector', ColumnDropper()),\n",
        "#     ('scaler', Scaler())\n",
        "# ]\n",
        "steps = [\n",
        "    ('transformer', FeatureTransformation()),\n",
        "    ('selector', ColumnDropper())\n",
        "]\n",
        "\n",
        "pipeline = Pipeline(steps)"
      ],
      "metadata": {
        "execution": {
          "iopub.status.busy": "2024-03-15T09:03:14.235252Z",
          "iopub.execute_input": "2024-03-15T09:03:14.235686Z",
          "iopub.status.idle": "2024-03-15T09:03:14.242831Z",
          "shell.execute_reply.started": "2024-03-15T09:03:14.235653Z",
          "shell.execute_reply": "2024-03-15T09:03:14.241306Z"
        },
        "trusted": true,
        "id": "RPIin_YcaL86"
      },
      "execution_count": 39,
      "outputs": []
    },
    {
      "cell_type": "code",
      "source": [
        "X_transformed = pipeline.fit_transform(X_train, y_train)\n",
        "\n",
        "X_transformed.head(), y_train.head()"
      ],
      "metadata": {
        "execution": {
          "iopub.status.busy": "2024-03-15T09:03:20.222503Z",
          "iopub.execute_input": "2024-03-15T09:03:20.222913Z",
          "iopub.status.idle": "2024-03-15T09:03:25.138499Z",
          "shell.execute_reply.started": "2024-03-15T09:03:20.222882Z",
          "shell.execute_reply": "2024-03-15T09:03:25.137225Z"
        },
        "trusted": true,
        "colab": {
          "base_uri": "https://localhost:8080/"
        },
        "id": "B12YqG3paL86",
        "outputId": "be86d999-f9cc-4654-97f0-93a7e87c6a09"
      },
      "execution_count": 40,
      "outputs": [
        {
          "output_type": "execute_result",
          "data": {
            "text/plain": [
              "(         Area  State_enc  Crop_enc  Year_enc  Season_enc\n",
              " 117206    7.0         28         5      2009           1\n",
              " 235631  104.0          7         2      2016           2\n",
              " 218770   10.0         32         6      2013           1\n",
              " 134274   56.0          4         6      2010           3\n",
              " 152643   31.0         19         4      2010           1,\n",
              " 117206      7.0\n",
              " 235631    271.0\n",
              " 218770      3.0\n",
              " 134274     20.0\n",
              " 152643     44.0\n",
              " Name: Production, dtype: float64)"
            ]
          },
          "metadata": {},
          "execution_count": 40
        }
      ]
    },
    {
      "cell_type": "code",
      "source": [
        "X_test_transformed = pipeline.transform(X_test)\n",
        "X_test_transformed.head(),"
      ],
      "metadata": {
        "execution": {
          "iopub.status.busy": "2024-03-15T09:03:25.140834Z",
          "iopub.execute_input": "2024-03-15T09:03:25.141615Z",
          "iopub.status.idle": "2024-03-15T09:03:27.549063Z",
          "shell.execute_reply.started": "2024-03-15T09:03:25.141570Z",
          "shell.execute_reply": "2024-03-15T09:03:27.547564Z"
        },
        "trusted": true,
        "colab": {
          "base_uri": "https://localhost:8080/"
        },
        "id": "ciHp_VDbaL86",
        "outputId": "6c961cfc-491b-49a9-fbcb-78b26fb9d6d1"
      },
      "execution_count": 41,
      "outputs": [
        {
          "output_type": "execute_result",
          "data": {
            "text/plain": [
              "(           Area  State_enc  Crop_enc  Year_enc  Season_enc\n",
              " 99310   22128.0         15         5      2009           1\n",
              " 286798   7077.0         19         4      2019           1\n",
              " 203306   2500.0         21         7      2015           3\n",
              " 196445    372.0         17        10      2015           3\n",
              " 241511   9593.0         16         3      2018           1,)"
            ]
          },
          "metadata": {},
          "execution_count": 41
        }
      ]
    },
    {
      "cell_type": "code",
      "source": [],
      "metadata": {
        "id": "cPy_-0nFaL9C"
      },
      "execution_count": 41,
      "outputs": []
    },
    {
      "cell_type": "markdown",
      "source": [
        "## Model Testing"
      ],
      "metadata": {
        "id": "UWv9W9jaaL9C"
      }
    },
    {
      "cell_type": "code",
      "source": [
        "from sklearn.linear_model import LinearRegression"
      ],
      "metadata": {
        "execution": {
          "iopub.status.busy": "2024-03-15T09:03:27.550597Z",
          "iopub.execute_input": "2024-03-15T09:03:27.550990Z",
          "iopub.status.idle": "2024-03-15T09:03:27.556326Z",
          "shell.execute_reply.started": "2024-03-15T09:03:27.550958Z",
          "shell.execute_reply": "2024-03-15T09:03:27.554743Z"
        },
        "trusted": true,
        "id": "V1kHESJ3aL9C"
      },
      "execution_count": 42,
      "outputs": []
    },
    {
      "cell_type": "code",
      "source": [
        "model = LinearRegression()"
      ],
      "metadata": {
        "execution": {
          "iopub.status.busy": "2024-03-15T09:03:27.559899Z",
          "iopub.execute_input": "2024-03-15T09:03:27.560767Z",
          "iopub.status.idle": "2024-03-15T09:03:27.573469Z",
          "shell.execute_reply.started": "2024-03-15T09:03:27.560724Z",
          "shell.execute_reply": "2024-03-15T09:03:27.572030Z"
        },
        "trusted": true,
        "id": "7lXLbiYRaL9C"
      },
      "execution_count": 43,
      "outputs": []
    },
    {
      "cell_type": "code",
      "source": [
        "model.fit(X_transformed, y_train)"
      ],
      "metadata": {
        "execution": {
          "iopub.status.busy": "2024-03-15T09:03:27.574885Z",
          "iopub.execute_input": "2024-03-15T09:03:27.575527Z",
          "iopub.status.idle": "2024-03-15T09:03:27.652668Z",
          "shell.execute_reply.started": "2024-03-15T09:03:27.575485Z",
          "shell.execute_reply": "2024-03-15T09:03:27.651276Z"
        },
        "trusted": true,
        "colab": {
          "base_uri": "https://localhost:8080/",
          "height": 74
        },
        "id": "6yEnbOSRaL9C",
        "outputId": "75964669-2ff9-4036-db52-1e8c637b8b8a"
      },
      "execution_count": 44,
      "outputs": [
        {
          "output_type": "execute_result",
          "data": {
            "text/plain": [
              "LinearRegression()"
            ],
            "text/html": [
              "<style>#sk-container-id-1 {color: black;background-color: white;}#sk-container-id-1 pre{padding: 0;}#sk-container-id-1 div.sk-toggleable {background-color: white;}#sk-container-id-1 label.sk-toggleable__label {cursor: pointer;display: block;width: 100%;margin-bottom: 0;padding: 0.3em;box-sizing: border-box;text-align: center;}#sk-container-id-1 label.sk-toggleable__label-arrow:before {content: \"▸\";float: left;margin-right: 0.25em;color: #696969;}#sk-container-id-1 label.sk-toggleable__label-arrow:hover:before {color: black;}#sk-container-id-1 div.sk-estimator:hover label.sk-toggleable__label-arrow:before {color: black;}#sk-container-id-1 div.sk-toggleable__content {max-height: 0;max-width: 0;overflow: hidden;text-align: left;background-color: #f0f8ff;}#sk-container-id-1 div.sk-toggleable__content pre {margin: 0.2em;color: black;border-radius: 0.25em;background-color: #f0f8ff;}#sk-container-id-1 input.sk-toggleable__control:checked~div.sk-toggleable__content {max-height: 200px;max-width: 100%;overflow: auto;}#sk-container-id-1 input.sk-toggleable__control:checked~label.sk-toggleable__label-arrow:before {content: \"▾\";}#sk-container-id-1 div.sk-estimator input.sk-toggleable__control:checked~label.sk-toggleable__label {background-color: #d4ebff;}#sk-container-id-1 div.sk-label input.sk-toggleable__control:checked~label.sk-toggleable__label {background-color: #d4ebff;}#sk-container-id-1 input.sk-hidden--visually {border: 0;clip: rect(1px 1px 1px 1px);clip: rect(1px, 1px, 1px, 1px);height: 1px;margin: -1px;overflow: hidden;padding: 0;position: absolute;width: 1px;}#sk-container-id-1 div.sk-estimator {font-family: monospace;background-color: #f0f8ff;border: 1px dotted black;border-radius: 0.25em;box-sizing: border-box;margin-bottom: 0.5em;}#sk-container-id-1 div.sk-estimator:hover {background-color: #d4ebff;}#sk-container-id-1 div.sk-parallel-item::after {content: \"\";width: 100%;border-bottom: 1px solid gray;flex-grow: 1;}#sk-container-id-1 div.sk-label:hover label.sk-toggleable__label {background-color: #d4ebff;}#sk-container-id-1 div.sk-serial::before {content: \"\";position: absolute;border-left: 1px solid gray;box-sizing: border-box;top: 0;bottom: 0;left: 50%;z-index: 0;}#sk-container-id-1 div.sk-serial {display: flex;flex-direction: column;align-items: center;background-color: white;padding-right: 0.2em;padding-left: 0.2em;position: relative;}#sk-container-id-1 div.sk-item {position: relative;z-index: 1;}#sk-container-id-1 div.sk-parallel {display: flex;align-items: stretch;justify-content: center;background-color: white;position: relative;}#sk-container-id-1 div.sk-item::before, #sk-container-id-1 div.sk-parallel-item::before {content: \"\";position: absolute;border-left: 1px solid gray;box-sizing: border-box;top: 0;bottom: 0;left: 50%;z-index: -1;}#sk-container-id-1 div.sk-parallel-item {display: flex;flex-direction: column;z-index: 1;position: relative;background-color: white;}#sk-container-id-1 div.sk-parallel-item:first-child::after {align-self: flex-end;width: 50%;}#sk-container-id-1 div.sk-parallel-item:last-child::after {align-self: flex-start;width: 50%;}#sk-container-id-1 div.sk-parallel-item:only-child::after {width: 0;}#sk-container-id-1 div.sk-dashed-wrapped {border: 1px dashed gray;margin: 0 0.4em 0.5em 0.4em;box-sizing: border-box;padding-bottom: 0.4em;background-color: white;}#sk-container-id-1 div.sk-label label {font-family: monospace;font-weight: bold;display: inline-block;line-height: 1.2em;}#sk-container-id-1 div.sk-label-container {text-align: center;}#sk-container-id-1 div.sk-container {/* jupyter's `normalize.less` sets `[hidden] { display: none; }` but bootstrap.min.css set `[hidden] { display: none !important; }` so we also need the `!important` here to be able to override the default hidden behavior on the sphinx rendered scikit-learn.org. See: https://github.com/scikit-learn/scikit-learn/issues/21755 */display: inline-block !important;position: relative;}#sk-container-id-1 div.sk-text-repr-fallback {display: none;}</style><div id=\"sk-container-id-1\" class=\"sk-top-container\"><div class=\"sk-text-repr-fallback\"><pre>LinearRegression()</pre><b>In a Jupyter environment, please rerun this cell to show the HTML representation or trust the notebook. <br />On GitHub, the HTML representation is unable to render, please try loading this page with nbviewer.org.</b></div><div class=\"sk-container\" hidden><div class=\"sk-item\"><div class=\"sk-estimator sk-toggleable\"><input class=\"sk-toggleable__control sk-hidden--visually\" id=\"sk-estimator-id-1\" type=\"checkbox\" checked><label for=\"sk-estimator-id-1\" class=\"sk-toggleable__label sk-toggleable__label-arrow\">LinearRegression</label><div class=\"sk-toggleable__content\"><pre>LinearRegression()</pre></div></div></div></div></div>"
            ]
          },
          "metadata": {},
          "execution_count": 44
        }
      ]
    },
    {
      "cell_type": "code",
      "source": [
        "from sklearn.metrics import mean_absolute_error, mean_squared_error, r2_score\n",
        "\n",
        "y_pred = model.predict(X_test_transformed)\n",
        "\n",
        "mae = mean_absolute_error(y_test, y_pred)\n",
        "\n",
        "mse = mean_squared_error(y_test, y_pred)\n",
        "\n",
        "r_squared = r2_score(y_test, y_pred)\n",
        "\n",
        "print(\"Mean Absolute Error (MAE):\", mae)\n",
        "print(\"Mean Squared Error (MSE):\", mse)"
      ],
      "metadata": {
        "execution": {
          "iopub.status.busy": "2024-03-15T09:03:27.654473Z",
          "iopub.execute_input": "2024-03-15T09:03:27.655075Z",
          "iopub.status.idle": "2024-03-15T09:03:27.679054Z",
          "shell.execute_reply.started": "2024-03-15T09:03:27.655026Z",
          "shell.execute_reply": "2024-03-15T09:03:27.677142Z"
        },
        "trusted": true,
        "colab": {
          "base_uri": "https://localhost:8080/"
        },
        "id": "7jY8NzyRaL9D",
        "outputId": "fab703b1-f12e-4037-973c-3a7a7e39b7b1"
      },
      "execution_count": 45,
      "outputs": [
        {
          "output_type": "stream",
          "name": "stdout",
          "text": [
            "Mean Absolute Error (MAE): 114895.38155512755\n",
            "Mean Squared Error (MSE): 278537324583.99585\n"
          ]
        }
      ]
    },
    {
      "cell_type": "code",
      "source": [
        "import matplotlib.pyplot as plt\n",
        "\n",
        "mask = (y_test >= 0) & (y_test <= 200)\n",
        "y_test_filtered = y_test[mask]\n",
        "y_pred_filtered = y_pred[mask]\n",
        "\n",
        "plt.figure(figsize=(8, 6))\n",
        "plt.scatter(y_test_filtered, y_pred_filtered, alpha=0.5)\n",
        "plt.xlabel('Actual Yield')\n",
        "plt.ylabel('Predicted Yield')\n",
        "plt.title('Actual vs. Predicted Yield (0-200)')\n",
        "plt.grid(True)\n",
        "plt.xlim(0, 200)\n",
        "plt.ylim(0, 200)\n",
        "plt.show()\n"
      ],
      "metadata": {
        "execution": {
          "iopub.status.busy": "2024-03-15T09:03:27.682365Z",
          "iopub.execute_input": "2024-03-15T09:03:27.684727Z",
          "iopub.status.idle": "2024-03-15T09:03:28.577145Z",
          "shell.execute_reply.started": "2024-03-15T09:03:27.684660Z",
          "shell.execute_reply": "2024-03-15T09:03:28.575711Z"
        },
        "trusted": true,
        "colab": {
          "base_uri": "https://localhost:8080/",
          "height": 564
        },
        "id": "8Awz2NyTaL9D",
        "outputId": "fbce8987-46e3-4e59-8367-0228f541f863"
      },
      "execution_count": 46,
      "outputs": [
        {
          "output_type": "display_data",
          "data": {
            "text/plain": [
              "<Figure size 800x600 with 1 Axes>"
            ],
            "image/png": "[encoded data removed]"
          },
          "metadata": {}
        }
      ]
    },
    {
      "cell_type": "code",
      "source": [
        "\n"
      ],
      "metadata": {
        "trusted": true,
        "id": "yGe1pQNlaL9D"
      },
      "execution_count": null,
      "outputs": []
    },
    {
      "cell_type": "code",
      "source": [
        "from sklearn.metrics import mean_absolute_error, mean_squared_error, r2_score\n",
        "from sklearn.tree import DecisionTreeRegressor\n",
        "\n",
        "decision_tree_model = DecisionTreeRegressor()\n",
        "\n",
        "decision_tree_model.fit(X_transformed, y_train)\n",
        "\n",
        "y_pred = decision_tree_model.predict(X_test_transformed)\n",
        "\n",
        "mae = mean_absolute_error(y_test, y_pred)\n",
        "\n",
        "mse = mean_squared_error(y_test, y_pred)\n",
        "\n",
        "r_squared = r2_score(y_test, y_pred)\n",
        "\n",
        "print(\"Mean Absolute Error (MAE):\", mae)\n",
        "print(\"Mean Squared Error (MSE):\", mse)\n",
        "print(\"R2 Score (R2):\", r_squared)"
      ],
      "metadata": {
        "execution": {
          "iopub.status.busy": "2024-03-15T09:03:32.911391Z",
          "iopub.execute_input": "2024-03-15T09:03:32.911803Z",
          "iopub.status.idle": "2024-03-15T09:03:34.715411Z",
          "shell.execute_reply.started": "2024-03-15T09:03:32.911773Z",
          "shell.execute_reply": "2024-03-15T09:03:34.714111Z"
        },
        "trusted": true,
        "colab": {
          "base_uri": "https://localhost:8080/"
        },
        "id": "6MFyWavMaL9D",
        "outputId": "8174b5ab-9daf-4107-c20e-5f8e9623b7fa"
      },
      "execution_count": 47,
      "outputs": [
        {
          "output_type": "stream",
          "name": "stdout",
          "text": [
            "Mean Absolute Error (MAE): 18024.653995386594\n",
            "Mean Squared Error (MSE): 27133407830.09157\n",
            "R2 Score (R2): 0.9127300946149832\n"
          ]
        }
      ]
    },
    {
      "cell_type": "code",
      "source": [],
      "metadata": {
        "id": "UKdN-xjdaL9D"
      },
      "execution_count": 47,
      "outputs": []
    },
    {
      "cell_type": "code",
      "source": [
        "from sklearn.ensemble import RandomForestRegressor\n",
        "\n",
        "random_forest_model = RandomForestRegressor()\n",
        "\n",
        "random_forest_model.fit(X_transformed, y_train)\n",
        "\n",
        "y_pred = random_forest_model.predict(X_test_transformed)\n",
        "\n",
        "mae = mean_absolute_error(y_test, y_pred)\n",
        "\n",
        "mse = mean_squared_error(y_test, y_pred)\n",
        "\n",
        "r_squared = r2_score(y_test, y_pred)\n",
        "\n",
        "print(\"Mean Absolute Error (MAE):\", mae)\n",
        "print(\"Mean Squared Error (MSE):\", mse)\n",
        "print(\"R2 Score (R2):\", r_squared)"
      ],
      "metadata": {
        "execution": {
          "iopub.status.busy": "2024-03-15T09:03:42.930651Z",
          "iopub.execute_input": "2024-03-15T09:03:42.931134Z",
          "iopub.status.idle": "2024-03-15T09:05:47.288013Z",
          "shell.execute_reply.started": "2024-03-15T09:03:42.931098Z",
          "shell.execute_reply": "2024-03-15T09:05:47.286719Z"
        },
        "trusted": true,
        "colab": {
          "base_uri": "https://localhost:8080/"
        },
        "id": "7yix2K7faL9D",
        "outputId": "0de4b894-5345-4cdf-d67a-0c2ab0da0b8d"
      },
      "execution_count": 48,
      "outputs": [
        {
          "output_type": "stream",
          "name": "stdout",
          "text": [
            "Mean Absolute Error (MAE): 13690.30979669814\n",
            "Mean Squared Error (MSE): 9307820370.884638\n",
            "R2 Score (R2): 0.9700630083698155\n"
          ]
        }
      ]
    },
    {
      "cell_type": "markdown",
      "source": [
        "## Hyperparameter Tuning"
      ],
      "metadata": {
        "id": "iVpYUbM5aL9E"
      }
    },
    {
      "cell_type": "code",
      "source": [
        "from sklearn.model_selection import GridSearchCV, RepeatedKFold\n",
        "from sklearn.ensemble import RandomForestRegressor\n",
        "\n",
        "param_grid = {\n",
        "    'n_estimators': [50, 100, 150],\n",
        "    'max_depth': [None, 10, 20],\n",
        "    'min_samples_split': [2, 5, 10],\n",
        "    'min_samples_leaf': [1, 2, 4]\n",
        "}\n",
        "\n",
        "rf_model = RandomForestRegressor()\n",
        "\n",
        "grid_search = GridSearchCV(estimator=rf_model, param_grid=param_grid, cv=2, scoring='neg_mean_squared_error', verbose=2)\n",
        "\n",
        "grid_search.fit(X_transformed, y_train)\n",
        "\n",
        "best_params = grid_search.best_params_\n",
        "best_score = grid_search.best_score_\n",
        "\n",
        "print(\"Best parameters:\", best_params)\n",
        "print(\"Best score (MSE):\", -best_score)\n",
        "\n",
        "best_model = grid_search.best_estimator_\n",
        "test_score = best_model.score(X_test_transformed, y_test)\n",
        "print(\"Test score (R^2):\", test_score)\n"
      ],
      "metadata": {
        "execution": {
          "iopub.status.busy": "2024-03-15T09:02:39.959275Z",
          "iopub.status.idle": "2024-03-15T09:02:39.959695Z",
          "shell.execute_reply.started": "2024-03-15T09:02:39.959501Z",
          "shell.execute_reply": "2024-03-15T09:02:39.959518Z"
        },
        "trusted": true,
        "colab": {
          "base_uri": "https://localhost:8080/",
          "height": 425
        },
        "id": "-QhUtnpsaL9E",
        "outputId": "d5dfd203-49be-4063-bc7f-8ff0356a52c8"
      },
      "execution_count": 49,
      "outputs": [
        {
          "output_type": "stream",
          "name": "stdout",
          "text": [
            "Fitting 2 folds for each of 81 candidates, totalling 162 fits\n",
            "[CV] END max_depth=None, min_samples_leaf=1, min_samples_split=2, n_estimators=50; total time=   7.9s\n",
            "[CV] END max_depth=None, min_samples_leaf=1, min_samples_split=2, n_estimators=50; total time=   8.0s\n"
          ]
        },
        {
          "output_type": "error",
          "ename": "KeyboardInterrupt",
          "evalue": "",
          "traceback": [
            "\u001b[0;31m---------------------------------------------------------------------------\u001b[0m",
            "\u001b[0;31mKeyboardInterrupt\u001b[0m                         Traceback (most recent call last)",
            "\u001b[0;32m<ipython-input-49-060cdc617849>\u001b[0m in \u001b[0;36m<cell line: 15>\u001b[0;34m()\u001b[0m\n\u001b[1;32m     13\u001b[0m \u001b[0mgrid_search\u001b[0m \u001b[0;34m=\u001b[0m \u001b[0mGridSearchCV\u001b[0m\u001b[0;34m(\u001b[0m\u001b[0mestimator\u001b[0m\u001b[0;34m=\u001b[0m\u001b[0mrf_model\u001b[0m\u001b[0;34m,\u001b[0m \u001b[0mparam_grid\u001b[0m\u001b[0;34m=\u001b[0m\u001b[0mparam_grid\u001b[0m\u001b[0;34m,\u001b[0m \u001b[0mcv\u001b[0m\u001b[0;34m=\u001b[0m\u001b[0;36m2\u001b[0m\u001b[0;34m,\u001b[0m \u001b[0mscoring\u001b[0m\u001b[0;34m=\u001b[0m\u001b[0;34m'neg_mean_squared_error'\u001b[0m\u001b[0;34m,\u001b[0m \u001b[0mverbose\u001b[0m\u001b[0;34m=\u001b[0m\u001b[0;36m2\u001b[0m\u001b[0;34m)\u001b[0m\u001b[0;34m\u001b[0m\u001b[0;34m\u001b[0m\u001b[0m\n\u001b[1;32m     14\u001b[0m \u001b[0;34m\u001b[0m\u001b[0m\n\u001b[0;32m---> 15\u001b[0;31m \u001b[0mgrid_search\u001b[0m\u001b[0;34m.\u001b[0m\u001b[0mfit\u001b[0m\u001b[0;34m(\u001b[0m\u001b[0mX_transformed\u001b[0m\u001b[0;34m,\u001b[0m \u001b[0my_train\u001b[0m\u001b[0;34m)\u001b[0m\u001b[0;34m\u001b[0m\u001b[0;34m\u001b[0m\u001b[0m\n\u001b[0m\u001b[1;32m     16\u001b[0m \u001b[0;34m\u001b[0m\u001b[0m\n\u001b[1;32m     17\u001b[0m \u001b[0mbest_params\u001b[0m \u001b[0;34m=\u001b[0m \u001b[0mgrid_search\u001b[0m\u001b[0;34m.\u001b[0m\u001b[0mbest_params_\u001b[0m\u001b[0;34m\u001b[0m\u001b[0;34m\u001b[0m\u001b[0m\n",
            "\u001b[0;32m/usr/local/lib/python3.10/dist-packages/sklearn/model_selection/_search.py\u001b[0m in \u001b[0;36mfit\u001b[0;34m(self, X, y, groups, **fit_params)\u001b[0m\n\u001b[1;32m    872\u001b[0m                 \u001b[0;32mreturn\u001b[0m \u001b[0mresults\u001b[0m\u001b[0;34m\u001b[0m\u001b[0;34m\u001b[0m\u001b[0m\n\u001b[1;32m    873\u001b[0m \u001b[0;34m\u001b[0m\u001b[0m\n\u001b[0;32m--> 874\u001b[0;31m             \u001b[0mself\u001b[0m\u001b[0;34m.\u001b[0m\u001b[0m_run_search\u001b[0m\u001b[0;34m(\u001b[0m\u001b[0mevaluate_candidates\u001b[0m\u001b[0;34m)\u001b[0m\u001b[0;34m\u001b[0m\u001b[0;34m\u001b[0m\u001b[0m\n\u001b[0m\u001b[1;32m    875\u001b[0m \u001b[0;34m\u001b[0m\u001b[0m\n\u001b[1;32m    876\u001b[0m             \u001b[0;31m# multimetric is determined here because in the case of a callable\u001b[0m\u001b[0;34m\u001b[0m\u001b[0;34m\u001b[0m\u001b[0m\n",
            "\u001b[0;32m/usr/local/lib/python3.10/dist-packages/sklearn/model_selection/_search.py\u001b[0m in \u001b[0;36m_run_search\u001b[0;34m(self, evaluate_candidates)\u001b[0m\n\u001b[1;32m   1386\u001b[0m     \u001b[0;32mdef\u001b[0m \u001b[0m_run_search\u001b[0m\u001b[0;34m(\u001b[0m\u001b[0mself\u001b[0m\u001b[0;34m,\u001b[0m \u001b[0mevaluate_candidates\u001b[0m\u001b[0;34m)\u001b[0m\u001b[0;34m:\u001b[0m\u001b[0;34m\u001b[0m\u001b[0;34m\u001b[0m\u001b[0m\n\u001b[1;32m   1387\u001b[0m         \u001b[0;34m\"\"\"Search all candidates in param_grid\"\"\"\u001b[0m\u001b[0;34m\u001b[0m\u001b[0;34m\u001b[0m\u001b[0m\n\u001b[0;32m-> 1388\u001b[0;31m         \u001b[0mevaluate_candidates\u001b[0m\u001b[0;34m(\u001b[0m\u001b[0mParameterGrid\u001b[0m\u001b[0;34m(\u001b[0m\u001b[0mself\u001b[0m\u001b[0;34m.\u001b[0m\u001b[0mparam_grid\u001b[0m\u001b[0;34m)\u001b[0m\u001b[0;34m)\u001b[0m\u001b[0;34m\u001b[0m\u001b[0;34m\u001b[0m\u001b[0m\n\u001b[0m\u001b[1;32m   1389\u001b[0m \u001b[0;34m\u001b[0m\u001b[0m\n\u001b[1;32m   1390\u001b[0m \u001b[0;34m\u001b[0m\u001b[0m\n",
            "\u001b[0;32m/usr/local/lib/python3.10/dist-packages/sklearn/model_selection/_search.py\u001b[0m in \u001b[0;36mevaluate_candidates\u001b[0;34m(candidate_params, cv, more_results)\u001b[0m\n\u001b[1;32m    819\u001b[0m                     )\n\u001b[1;32m    820\u001b[0m \u001b[0;34m\u001b[0m\u001b[0m\n\u001b[0;32m--> 821\u001b[0;31m                 out = parallel(\n\u001b[0m\u001b[1;32m    822\u001b[0m                     delayed(_fit_and_score)(\n\u001b[1;32m    823\u001b[0m                         \u001b[0mclone\u001b[0m\u001b[0;34m(\u001b[0m\u001b[0mbase_estimator\u001b[0m\u001b[0;34m)\u001b[0m\u001b[0;34m,\u001b[0m\u001b[0;34m\u001b[0m\u001b[0;34m\u001b[0m\u001b[0m\n",
            "\u001b[0;32m/usr/local/lib/python3.10/dist-packages/sklearn/utils/parallel.py\u001b[0m in \u001b[0;36m__call__\u001b[0;34m(self, iterable)\u001b[0m\n\u001b[1;32m     61\u001b[0m             \u001b[0;32mfor\u001b[0m \u001b[0mdelayed_func\u001b[0m\u001b[0;34m,\u001b[0m \u001b[0margs\u001b[0m\u001b[0;34m,\u001b[0m \u001b[0mkwargs\u001b[0m \u001b[0;32min\u001b[0m \u001b[0miterable\u001b[0m\u001b[0;34m\u001b[0m\u001b[0;34m\u001b[0m\u001b[0m\n\u001b[1;32m     62\u001b[0m         )\n\u001b[0;32m---> 63\u001b[0;31m         \u001b[0;32mreturn\u001b[0m \u001b[0msuper\u001b[0m\u001b[0;34m(\u001b[0m\u001b[0;34m)\u001b[0m\u001b[0;34m.\u001b[0m\u001b[0m__call__\u001b[0m\u001b[0;34m(\u001b[0m\u001b[0miterable_with_config\u001b[0m\u001b[0;34m)\u001b[0m\u001b[0;34m\u001b[0m\u001b[0;34m\u001b[0m\u001b[0m\n\u001b[0m\u001b[1;32m     64\u001b[0m \u001b[0;34m\u001b[0m\u001b[0m\n\u001b[1;32m     65\u001b[0m \u001b[0;34m\u001b[0m\u001b[0m\n",
            "\u001b[0;32m/usr/local/lib/python3.10/dist-packages/joblib/parallel.py\u001b[0m in \u001b[0;36m__call__\u001b[0;34m(self, iterable)\u001b[0m\n\u001b[1;32m   1861\u001b[0m             \u001b[0moutput\u001b[0m \u001b[0;34m=\u001b[0m \u001b[0mself\u001b[0m\u001b[0;34m.\u001b[0m\u001b[0m_get_sequential_output\u001b[0m\u001b[0;34m(\u001b[0m\u001b[0miterable\u001b[0m\u001b[0;34m)\u001b[0m\u001b[0;34m\u001b[0m\u001b[0;34m\u001b[0m\u001b[0m\n\u001b[1;32m   1862\u001b[0m             \u001b[0mnext\u001b[0m\u001b[0;34m(\u001b[0m\u001b[0moutput\u001b[0m\u001b[0;34m)\u001b[0m\u001b[0;34m\u001b[0m\u001b[0;34m\u001b[0m\u001b[0m\n\u001b[0;32m-> 1863\u001b[0;31m             \u001b[0;32mreturn\u001b[0m \u001b[0moutput\u001b[0m \u001b[0;32mif\u001b[0m \u001b[0mself\u001b[0m\u001b[0;34m.\u001b[0m\u001b[0mreturn_generator\u001b[0m \u001b[0;32melse\u001b[0m \u001b[0mlist\u001b[0m\u001b[0;34m(\u001b[0m\u001b[0moutput\u001b[0m\u001b[0;34m)\u001b[0m\u001b[0;34m\u001b[0m\u001b[0;34m\u001b[0m\u001b[0m\n\u001b[0m\u001b[1;32m   1864\u001b[0m \u001b[0;34m\u001b[0m\u001b[0m\n\u001b[1;32m   1865\u001b[0m         \u001b[0;31m# Let's create an ID that uniquely identifies the current call. If the\u001b[0m\u001b[0;34m\u001b[0m\u001b[0;34m\u001b[0m\u001b[0m\n",
            "\u001b[0;32m/usr/local/lib/python3.10/dist-packages/joblib/parallel.py\u001b[0m in \u001b[0;36m_get_sequential_output\u001b[0;34m(self, iterable)\u001b[0m\n\u001b[1;32m   1790\u001b[0m                 \u001b[0mself\u001b[0m\u001b[0;34m.\u001b[0m\u001b[0mn_dispatched_batches\u001b[0m \u001b[0;34m+=\u001b[0m \u001b[0;36m1\u001b[0m\u001b[0;34m\u001b[0m\u001b[0;34m\u001b[0m\u001b[0m\n\u001b[1;32m   1791\u001b[0m                 \u001b[0mself\u001b[0m\u001b[0;34m.\u001b[0m\u001b[0mn_dispatched_tasks\u001b[0m \u001b[0;34m+=\u001b[0m \u001b[0;36m1\u001b[0m\u001b[0;34m\u001b[0m\u001b[0;34m\u001b[0m\u001b[0m\n\u001b[0;32m-> 1792\u001b[0;31m                 \u001b[0mres\u001b[0m \u001b[0;34m=\u001b[0m \u001b[0mfunc\u001b[0m\u001b[0;34m(\u001b[0m\u001b[0;34m*\u001b[0m\u001b[0margs\u001b[0m\u001b[0;34m,\u001b[0m \u001b[0;34m**\u001b[0m\u001b[0mkwargs\u001b[0m\u001b[0;34m)\u001b[0m\u001b[0;34m\u001b[0m\u001b[0;34m\u001b[0m\u001b[0m\n\u001b[0m\u001b[1;32m   1793\u001b[0m                 \u001b[0mself\u001b[0m\u001b[0;34m.\u001b[0m\u001b[0mn_completed_tasks\u001b[0m \u001b[0;34m+=\u001b[0m \u001b[0;36m1\u001b[0m\u001b[0;34m\u001b[0m\u001b[0;34m\u001b[0m\u001b[0m\n\u001b[1;32m   1794\u001b[0m                 \u001b[0mself\u001b[0m\u001b[0;34m.\u001b[0m\u001b[0mprint_progress\u001b[0m\u001b[0;34m(\u001b[0m\u001b[0;34m)\u001b[0m\u001b[0;34m\u001b[0m\u001b[0;34m\u001b[0m\u001b[0m\n",
            "\u001b[0;32m/usr/local/lib/python3.10/dist-packages/sklearn/utils/parallel.py\u001b[0m in \u001b[0;36m__call__\u001b[0;34m(self, *args, **kwargs)\u001b[0m\n\u001b[1;32m    121\u001b[0m             \u001b[0mconfig\u001b[0m \u001b[0;34m=\u001b[0m \u001b[0;34m{\u001b[0m\u001b[0;34m}\u001b[0m\u001b[0;34m\u001b[0m\u001b[0;34m\u001b[0m\u001b[0m\n\u001b[1;32m    122\u001b[0m         \u001b[0;32mwith\u001b[0m \u001b[0mconfig_context\u001b[0m\u001b[0;34m(\u001b[0m\u001b[0;34m**\u001b[0m\u001b[0mconfig\u001b[0m\u001b[0;34m)\u001b[0m\u001b[0;34m:\u001b[0m\u001b[0;34m\u001b[0m\u001b[0;34m\u001b[0m\u001b[0m\n\u001b[0;32m--> 123\u001b[0;31m             \u001b[0;32mreturn\u001b[0m \u001b[0mself\u001b[0m\u001b[0;34m.\u001b[0m\u001b[0mfunction\u001b[0m\u001b[0;34m(\u001b[0m\u001b[0;34m*\u001b[0m\u001b[0margs\u001b[0m\u001b[0;34m,\u001b[0m \u001b[0;34m**\u001b[0m\u001b[0mkwargs\u001b[0m\u001b[0;34m)\u001b[0m\u001b[0;34m\u001b[0m\u001b[0;34m\u001b[0m\u001b[0m\n\u001b[0m",
            "\u001b[0;32m/usr/local/lib/python3.10/dist-packages/sklearn/model_selection/_validation.py\u001b[0m in \u001b[0;36m_fit_and_score\u001b[0;34m(estimator, X, y, scorer, train, test, verbose, parameters, fit_params, return_train_score, return_parameters, return_n_test_samples, return_times, return_estimator, split_progress, candidate_progress, error_score)\u001b[0m\n\u001b[1;32m    684\u001b[0m             \u001b[0mestimator\u001b[0m\u001b[0;34m.\u001b[0m\u001b[0mfit\u001b[0m\u001b[0;34m(\u001b[0m\u001b[0mX_train\u001b[0m\u001b[0;34m,\u001b[0m \u001b[0;34m**\u001b[0m\u001b[0mfit_params\u001b[0m\u001b[0;34m)\u001b[0m\u001b[0;34m\u001b[0m\u001b[0;34m\u001b[0m\u001b[0m\n\u001b[1;32m    685\u001b[0m         \u001b[0;32melse\u001b[0m\u001b[0;34m:\u001b[0m\u001b[0;34m\u001b[0m\u001b[0;34m\u001b[0m\u001b[0m\n\u001b[0;32m--> 686\u001b[0;31m             \u001b[0mestimator\u001b[0m\u001b[0;34m.\u001b[0m\u001b[0mfit\u001b[0m\u001b[0;34m(\u001b[0m\u001b[0mX_train\u001b[0m\u001b[0;34m,\u001b[0m \u001b[0my_train\u001b[0m\u001b[0;34m,\u001b[0m \u001b[0;34m**\u001b[0m\u001b[0mfit_params\u001b[0m\u001b[0;34m)\u001b[0m\u001b[0;34m\u001b[0m\u001b[0;34m\u001b[0m\u001b[0m\n\u001b[0m\u001b[1;32m    687\u001b[0m \u001b[0;34m\u001b[0m\u001b[0m\n\u001b[1;32m    688\u001b[0m     \u001b[0;32mexcept\u001b[0m \u001b[0mException\u001b[0m\u001b[0;34m:\u001b[0m\u001b[0;34m\u001b[0m\u001b[0;34m\u001b[0m\u001b[0m\n",
            "\u001b[0;32m/usr/local/lib/python3.10/dist-packages/sklearn/ensemble/_forest.py\u001b[0m in \u001b[0;36mfit\u001b[0;34m(self, X, y, sample_weight)\u001b[0m\n\u001b[1;32m    471\u001b[0m             \u001b[0;31m# parallel_backend contexts set at a higher level,\u001b[0m\u001b[0;34m\u001b[0m\u001b[0;34m\u001b[0m\u001b[0m\n\u001b[1;32m    472\u001b[0m             \u001b[0;31m# since correctness does not rely on using threads.\u001b[0m\u001b[0;34m\u001b[0m\u001b[0;34m\u001b[0m\u001b[0m\n\u001b[0;32m--> 473\u001b[0;31m             trees = Parallel(\n\u001b[0m\u001b[1;32m    474\u001b[0m                 \u001b[0mn_jobs\u001b[0m\u001b[0;34m=\u001b[0m\u001b[0mself\u001b[0m\u001b[0;34m.\u001b[0m\u001b[0mn_jobs\u001b[0m\u001b[0;34m,\u001b[0m\u001b[0;34m\u001b[0m\u001b[0;34m\u001b[0m\u001b[0m\n\u001b[1;32m    475\u001b[0m                 \u001b[0mverbose\u001b[0m\u001b[0;34m=\u001b[0m\u001b[0mself\u001b[0m\u001b[0;34m.\u001b[0m\u001b[0mverbose\u001b[0m\u001b[0;34m,\u001b[0m\u001b[0;34m\u001b[0m\u001b[0;34m\u001b[0m\u001b[0m\n",
            "\u001b[0;32m/usr/local/lib/python3.10/dist-packages/sklearn/utils/parallel.py\u001b[0m in \u001b[0;36m__call__\u001b[0;34m(self, iterable)\u001b[0m\n\u001b[1;32m     61\u001b[0m             \u001b[0;32mfor\u001b[0m \u001b[0mdelayed_func\u001b[0m\u001b[0;34m,\u001b[0m \u001b[0margs\u001b[0m\u001b[0;34m,\u001b[0m \u001b[0mkwargs\u001b[0m \u001b[0;32min\u001b[0m \u001b[0miterable\u001b[0m\u001b[0;34m\u001b[0m\u001b[0;34m\u001b[0m\u001b[0m\n\u001b[1;32m     62\u001b[0m         )\n\u001b[0;32m---> 63\u001b[0;31m         \u001b[0;32mreturn\u001b[0m \u001b[0msuper\u001b[0m\u001b[0;34m(\u001b[0m\u001b[0;34m)\u001b[0m\u001b[0;34m.\u001b[0m\u001b[0m__call__\u001b[0m\u001b[0;34m(\u001b[0m\u001b[0miterable_with_config\u001b[0m\u001b[0;34m)\u001b[0m\u001b[0;34m\u001b[0m\u001b[0;34m\u001b[0m\u001b[0m\n\u001b[0m\u001b[1;32m     64\u001b[0m \u001b[0;34m\u001b[0m\u001b[0m\n\u001b[1;32m     65\u001b[0m \u001b[0;34m\u001b[0m\u001b[0m\n",
            "\u001b[0;32m/usr/local/lib/python3.10/dist-packages/joblib/parallel.py\u001b[0m in \u001b[0;36m__call__\u001b[0;34m(self, iterable)\u001b[0m\n\u001b[1;32m   1861\u001b[0m             \u001b[0moutput\u001b[0m \u001b[0;34m=\u001b[0m \u001b[0mself\u001b[0m\u001b[0;34m.\u001b[0m\u001b[0m_get_sequential_output\u001b[0m\u001b[0;34m(\u001b[0m\u001b[0miterable\u001b[0m\u001b[0;34m)\u001b[0m\u001b[0;34m\u001b[0m\u001b[0;34m\u001b[0m\u001b[0m\n\u001b[1;32m   1862\u001b[0m             \u001b[0mnext\u001b[0m\u001b[0;34m(\u001b[0m\u001b[0moutput\u001b[0m\u001b[0;34m)\u001b[0m\u001b[0;34m\u001b[0m\u001b[0;34m\u001b[0m\u001b[0m\n\u001b[0;32m-> 1863\u001b[0;31m             \u001b[0;32mreturn\u001b[0m \u001b[0moutput\u001b[0m \u001b[0;32mif\u001b[0m \u001b[0mself\u001b[0m\u001b[0;34m.\u001b[0m\u001b[0mreturn_generator\u001b[0m \u001b[0;32melse\u001b[0m \u001b[0mlist\u001b[0m\u001b[0;34m(\u001b[0m\u001b[0moutput\u001b[0m\u001b[0;34m)\u001b[0m\u001b[0;34m\u001b[0m\u001b[0;34m\u001b[0m\u001b[0m\n\u001b[0m\u001b[1;32m   1864\u001b[0m \u001b[0;34m\u001b[0m\u001b[0m\n\u001b[1;32m   1865\u001b[0m         \u001b[0;31m# Let's create an ID that uniquely identifies the current call. If the\u001b[0m\u001b[0;34m\u001b[0m\u001b[0;34m\u001b[0m\u001b[0m\n",
            "\u001b[0;32m/usr/local/lib/python3.10/dist-packages/joblib/parallel.py\u001b[0m in \u001b[0;36m_get_sequential_output\u001b[0;34m(self, iterable)\u001b[0m\n\u001b[1;32m   1790\u001b[0m                 \u001b[0mself\u001b[0m\u001b[0;34m.\u001b[0m\u001b[0mn_dispatched_batches\u001b[0m \u001b[0;34m+=\u001b[0m \u001b[0;36m1\u001b[0m\u001b[0;34m\u001b[0m\u001b[0;34m\u001b[0m\u001b[0m\n\u001b[1;32m   1791\u001b[0m                 \u001b[0mself\u001b[0m\u001b[0;34m.\u001b[0m\u001b[0mn_dispatched_tasks\u001b[0m \u001b[0;34m+=\u001b[0m \u001b[0;36m1\u001b[0m\u001b[0;34m\u001b[0m\u001b[0;34m\u001b[0m\u001b[0m\n\u001b[0;32m-> 1792\u001b[0;31m                 \u001b[0mres\u001b[0m \u001b[0;34m=\u001b[0m \u001b[0mfunc\u001b[0m\u001b[0;34m(\u001b[0m\u001b[0;34m*\u001b[0m\u001b[0margs\u001b[0m\u001b[0;34m,\u001b[0m \u001b[0;34m**\u001b[0m\u001b[0mkwargs\u001b[0m\u001b[0;34m)\u001b[0m\u001b[0;34m\u001b[0m\u001b[0;34m\u001b[0m\u001b[0m\n\u001b[0m\u001b[1;32m   1793\u001b[0m                 \u001b[0mself\u001b[0m\u001b[0;34m.\u001b[0m\u001b[0mn_completed_tasks\u001b[0m \u001b[0;34m+=\u001b[0m \u001b[0;36m1\u001b[0m\u001b[0;34m\u001b[0m\u001b[0;34m\u001b[0m\u001b[0m\n\u001b[1;32m   1794\u001b[0m                 \u001b[0mself\u001b[0m\u001b[0;34m.\u001b[0m\u001b[0mprint_progress\u001b[0m\u001b[0;34m(\u001b[0m\u001b[0;34m)\u001b[0m\u001b[0;34m\u001b[0m\u001b[0;34m\u001b[0m\u001b[0m\n",
            "\u001b[0;32m/usr/local/lib/python3.10/dist-packages/sklearn/utils/parallel.py\u001b[0m in \u001b[0;36m__call__\u001b[0;34m(self, *args, **kwargs)\u001b[0m\n\u001b[1;32m    121\u001b[0m             \u001b[0mconfig\u001b[0m \u001b[0;34m=\u001b[0m \u001b[0;34m{\u001b[0m\u001b[0;34m}\u001b[0m\u001b[0;34m\u001b[0m\u001b[0;34m\u001b[0m\u001b[0m\n\u001b[1;32m    122\u001b[0m         \u001b[0;32mwith\u001b[0m \u001b[0mconfig_context\u001b[0m\u001b[0;34m(\u001b[0m\u001b[0;34m**\u001b[0m\u001b[0mconfig\u001b[0m\u001b[0;34m)\u001b[0m\u001b[0;34m:\u001b[0m\u001b[0;34m\u001b[0m\u001b[0;34m\u001b[0m\u001b[0m\n\u001b[0;32m--> 123\u001b[0;31m             \u001b[0;32mreturn\u001b[0m \u001b[0mself\u001b[0m\u001b[0;34m.\u001b[0m\u001b[0mfunction\u001b[0m\u001b[0;34m(\u001b[0m\u001b[0;34m*\u001b[0m\u001b[0margs\u001b[0m\u001b[0;34m,\u001b[0m \u001b[0;34m**\u001b[0m\u001b[0mkwargs\u001b[0m\u001b[0;34m)\u001b[0m\u001b[0;34m\u001b[0m\u001b[0;34m\u001b[0m\u001b[0m\n\u001b[0m",
            "\u001b[0;32m/usr/local/lib/python3.10/dist-packages/sklearn/ensemble/_forest.py\u001b[0m in \u001b[0;36m_parallel_build_trees\u001b[0;34m(tree, bootstrap, X, y, sample_weight, tree_idx, n_trees, verbose, class_weight, n_samples_bootstrap)\u001b[0m\n\u001b[1;32m    182\u001b[0m             \u001b[0mcurr_sample_weight\u001b[0m \u001b[0;34m*=\u001b[0m \u001b[0mcompute_sample_weight\u001b[0m\u001b[0;34m(\u001b[0m\u001b[0;34m\"balanced\"\u001b[0m\u001b[0;34m,\u001b[0m \u001b[0my\u001b[0m\u001b[0;34m,\u001b[0m \u001b[0mindices\u001b[0m\u001b[0;34m=\u001b[0m\u001b[0mindices\u001b[0m\u001b[0;34m)\u001b[0m\u001b[0;34m\u001b[0m\u001b[0;34m\u001b[0m\u001b[0m\n\u001b[1;32m    183\u001b[0m \u001b[0;34m\u001b[0m\u001b[0m\n\u001b[0;32m--> 184\u001b[0;31m         \u001b[0mtree\u001b[0m\u001b[0;34m.\u001b[0m\u001b[0mfit\u001b[0m\u001b[0;34m(\u001b[0m\u001b[0mX\u001b[0m\u001b[0;34m,\u001b[0m \u001b[0my\u001b[0m\u001b[0;34m,\u001b[0m \u001b[0msample_weight\u001b[0m\u001b[0;34m=\u001b[0m\u001b[0mcurr_sample_weight\u001b[0m\u001b[0;34m,\u001b[0m \u001b[0mcheck_input\u001b[0m\u001b[0;34m=\u001b[0m\u001b[0;32mFalse\u001b[0m\u001b[0;34m)\u001b[0m\u001b[0;34m\u001b[0m\u001b[0;34m\u001b[0m\u001b[0m\n\u001b[0m\u001b[1;32m    185\u001b[0m     \u001b[0;32melse\u001b[0m\u001b[0;34m:\u001b[0m\u001b[0;34m\u001b[0m\u001b[0;34m\u001b[0m\u001b[0m\n\u001b[1;32m    186\u001b[0m         \u001b[0mtree\u001b[0m\u001b[0;34m.\u001b[0m\u001b[0mfit\u001b[0m\u001b[0;34m(\u001b[0m\u001b[0mX\u001b[0m\u001b[0;34m,\u001b[0m \u001b[0my\u001b[0m\u001b[0;34m,\u001b[0m \u001b[0msample_weight\u001b[0m\u001b[0;34m=\u001b[0m\u001b[0msample_weight\u001b[0m\u001b[0;34m,\u001b[0m \u001b[0mcheck_input\u001b[0m\u001b[0;34m=\u001b[0m\u001b[0;32mFalse\u001b[0m\u001b[0;34m)\u001b[0m\u001b[0;34m\u001b[0m\u001b[0;34m\u001b[0m\u001b[0m\n",
            "\u001b[0;32m/usr/local/lib/python3.10/dist-packages/sklearn/tree/_classes.py\u001b[0m in \u001b[0;36mfit\u001b[0;34m(self, X, y, sample_weight, check_input)\u001b[0m\n\u001b[1;32m   1245\u001b[0m         \"\"\"\n\u001b[1;32m   1246\u001b[0m \u001b[0;34m\u001b[0m\u001b[0m\n\u001b[0;32m-> 1247\u001b[0;31m         super().fit(\n\u001b[0m\u001b[1;32m   1248\u001b[0m             \u001b[0mX\u001b[0m\u001b[0;34m,\u001b[0m\u001b[0;34m\u001b[0m\u001b[0;34m\u001b[0m\u001b[0m\n\u001b[1;32m   1249\u001b[0m             \u001b[0my\u001b[0m\u001b[0;34m,\u001b[0m\u001b[0;34m\u001b[0m\u001b[0;34m\u001b[0m\u001b[0m\n",
            "\u001b[0;32m/usr/local/lib/python3.10/dist-packages/sklearn/tree/_classes.py\u001b[0m in \u001b[0;36mfit\u001b[0;34m(self, X, y, sample_weight, check_input)\u001b[0m\n\u001b[1;32m    377\u001b[0m             )\n\u001b[1;32m    378\u001b[0m \u001b[0;34m\u001b[0m\u001b[0m\n\u001b[0;32m--> 379\u001b[0;31m         \u001b[0mbuilder\u001b[0m\u001b[0;34m.\u001b[0m\u001b[0mbuild\u001b[0m\u001b[0;34m(\u001b[0m\u001b[0mself\u001b[0m\u001b[0;34m.\u001b[0m\u001b[0mtree_\u001b[0m\u001b[0;34m,\u001b[0m \u001b[0mX\u001b[0m\u001b[0;34m,\u001b[0m \u001b[0my\u001b[0m\u001b[0;34m,\u001b[0m \u001b[0msample_weight\u001b[0m\u001b[0;34m)\u001b[0m\u001b[0;34m\u001b[0m\u001b[0;34m\u001b[0m\u001b[0m\n\u001b[0m\u001b[1;32m    380\u001b[0m \u001b[0;34m\u001b[0m\u001b[0m\n\u001b[1;32m    381\u001b[0m         \u001b[0;32mif\u001b[0m \u001b[0mself\u001b[0m\u001b[0;34m.\u001b[0m\u001b[0mn_outputs_\u001b[0m \u001b[0;34m==\u001b[0m \u001b[0;36m1\u001b[0m \u001b[0;32mand\u001b[0m \u001b[0mis_classifier\u001b[0m\u001b[0;34m(\u001b[0m\u001b[0mself\u001b[0m\u001b[0;34m)\u001b[0m\u001b[0;34m:\u001b[0m\u001b[0;34m\u001b[0m\u001b[0;34m\u001b[0m\u001b[0m\n",
            "\u001b[0;31mKeyboardInterrupt\u001b[0m: "
          ]
        }
      ]
    },
    {
      "cell_type": "code",
      "source": [
        "print(best_params)"
      ],
      "metadata": {
        "execution": {
          "iopub.status.busy": "2024-03-15T09:02:39.960773Z",
          "iopub.status.idle": "2024-03-15T09:02:39.961206Z",
          "shell.execute_reply.started": "2024-03-15T09:02:39.961004Z",
          "shell.execute_reply": "2024-03-15T09:02:39.961022Z"
        },
        "trusted": true,
        "id": "eCDtoYpQaL9E"
      },
      "execution_count": null,
      "outputs": []
    },
    {
      "cell_type": "markdown",
      "source": [
        "## Final Model with Fine Tuned Parameters"
      ],
      "metadata": {
        "id": "ByzB2k9jaL9E"
      }
    },
    {
      "cell_type": "code",
      "source": [
        "from sklearn.ensemble import RandomForestRegressor\n",
        "\n",
        "rf = RandomForestRegressor(max_depth=20, min_samples_leaf=1, min_samples_split=5, n_estimators=150)\n",
        "\n",
        "rf.fit(X_transformed, y_train)\n",
        "\n",
        "y_pred = rf.predict(X_test_transformed)\n",
        "\n",
        "y_pred\n",
        "\n",
        "mae = mean_absolute_error(y_test, y_pred)\n",
        "\n",
        "mse = mean_squared_error(y_test, y_pred)\n",
        "\n",
        "\n",
        "print(\"Mean Absolute Error (MAE):\", mae)\n",
        "print(\"Mean Squared Error (MSE):\", mse)\n",
        "print(\"Mean Squared Error (MSE):\", mse)\n",
        "\n",
        "\n",
        "mask = (y_test >= 0) & (y_test <= 200)\n",
        "y_test_filtered = y_test[mask]\n",
        "y_pred_filtered = y_pred[mask]\n",
        "\n",
        "plt.figure(figsize=(8, 6))\n",
        "plt.scatter(y_test_filtered, y_pred_filtered, alpha=0.5)\n",
        "plt.xlabel('Actual Yield')\n",
        "plt.ylabel('Predicted Yield')\n",
        "plt.title('Actual vs. Predicted Yield')\n",
        "plt.grid(True)\n",
        "plt.xlim(0, 200)\n",
        "plt.ylim(0, 200)\n",
        "plt.show()\n"
      ],
      "metadata": {
        "execution": {
          "iopub.status.busy": "2024-03-15T09:05:54.380974Z",
          "iopub.execute_input": "2024-03-15T09:05:54.381489Z",
          "iopub.status.idle": "2024-03-15T09:08:32.183237Z",
          "shell.execute_reply.started": "2024-03-15T09:05:54.381446Z",
          "shell.execute_reply": "2024-03-15T09:08:32.181810Z"
        },
        "trusted": true,
        "colab": {
          "base_uri": "https://localhost:8080/",
          "height": 599
        },
        "id": "lM26FBaFaL9E",
        "outputId": "6603bfd2-2425-4965-e15c-927d4f2757d5"
      },
      "execution_count": 50,
      "outputs": [
        {
          "output_type": "stream",
          "name": "stdout",
          "text": [
            "Mean Absolute Error (MAE): 13664.748128790612\n",
            "Mean Squared Error (MSE): 9607001942.853043\n"
          ]
        },
        {
          "output_type": "display_data",
          "data": {
            "text/plain": [
              "<Figure size 800x600 with 1 Axes>"
            ],
            "image/png": "[encoded data removed]"
          },
          "metadata": {}
        }
      ]
    },
    {
      "cell_type": "code",
      "source": [
        "import pickle\n",
        "\n",
        "pickle.dump(rf, open('yield_model_2.pkl', 'wb'))\n",
        "# model = pickle.load(open('model.pkl', 'rb'))"
      ],
      "metadata": {
        "execution": {
          "iopub.status.busy": "2024-03-15T09:12:07.222246Z",
          "iopub.execute_input": "2024-03-15T09:12:07.222675Z",
          "iopub.status.idle": "2024-03-15T09:12:09.856228Z",
          "shell.execute_reply.started": "2024-03-15T09:12:07.222644Z",
          "shell.execute_reply": "2024-03-15T09:12:09.853579Z"
        },
        "trusted": true,
        "id": "TI7pSZ_9aL9E"
      },
      "execution_count": 51,
      "outputs": []
    },
    {
      "cell_type": "code",
      "source": [
        "!zip model.pkl"
      ],
      "metadata": {
        "colab": {
          "base_uri": "https://localhost:8080/"
        },
        "id": "Jms1X1yUaL9F",
        "outputId": "6ae65157-efd1-45a2-9f33-18feb40e2272"
      },
      "execution_count": null,
      "outputs": [
        {
          "output_type": "stream",
          "name": "stdout",
          "text": [
            "\tzip warning: missing end signature--probably not a zip file (did you\n",
            "\tzip warning: remember to use binary mode when you transferred it?)\n",
            "\tzip warning: (if you are trying to read a damaged archive try -F)\n",
            "\n",
            "zip error: Zip file structure invalid (model.pkl)\n"
          ]
        }
      ]
    },
    {
      "cell_type": "code",
      "source": [
        "from google.colab import drive\n",
        "drive.mount('/content/drive')"
      ],
      "metadata": {
        "colab": {
          "base_uri": "https://localhost:8080/"
        },
        "id": "xhagQCQllV2P",
        "outputId": "b36d3306-8eed-4496-dfd9-0855c1558e0c"
      },
      "execution_count": 52,
      "outputs": [
        {
          "output_type": "stream",
          "name": "stdout",
          "text": [
            "Mounted at /content/drive\n"
          ]
        }
      ]
    },
    {
      "cell_type": "code",
      "source": [
        "!cp /content/yield_model_2.pkl /content/drive/MyDrive/CropYield"
      ],
      "metadata": {
        "id": "KGr42jacX_UC"
      },
      "execution_count": 53,
      "outputs": []
    },
    {
      "cell_type": "code",
      "source": [],
      "metadata": {
        "id": "krmPDxVuYksU"
      },
      "execution_count": null,
      "outputs": []
    }
  ]
}